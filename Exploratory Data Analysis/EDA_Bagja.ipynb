{
  "nbformat": 4,
  "nbformat_minor": 0,
  "metadata": {
    "colab": {
      "name": "EDA_Bagja.ipynb",
      "provenance": [],
      "collapsed_sections": []
    },
    "kernelspec": {
      "name": "python3",
      "display_name": "Python 3"
    }
  },
  "cells": [
    {
      "cell_type": "markdown",
      "metadata": {
        "id": "0Va7EO1YTlBB"
      },
      "source": [
        "# **Exploratory Data Analysis**\n",
        "\n",
        "---\n",
        "\n"
      ]
    },
    {
      "cell_type": "markdown",
      "metadata": {
        "id": "Sw9XHGC8Hell"
      },
      "source": [
        "modul ini dibuat oleh <br>[Bagja 9102 Kurniawan](https://github.com/Bagja9102Kurniawan/)<br> jika ada pertanyaan dapat hubungi saya di [linkedin](https://www.linkedin.com/in/bagja9102/) <br> anda juga dapat berkontribusi di [repository](https://github.com/Bagja9102Kurniawan/eda-for-inovatif-bootcamp) untuk modul ini, enjoy!"
      ]
    },
    {
      "cell_type": "markdown",
      "metadata": {
        "id": "krhU-9CTVw3j"
      },
      "source": [
        "*Exploratory Data Analysis* (EDA) secara definisi berarti proses kritis dalam melakukan investigasi awal pada data untuk menemukan pola, untuk menemukan anomali, untuk menguji hipotesis dan untuk memeriksa asumsi dengan bantuan statistik ringkasan dan representasi grafis.\n",
        "\n",
        "\n",
        "\n",
        "\n",
        "\n",
        "\n",
        "\n"
      ]
    },
    {
      "cell_type": "markdown",
      "metadata": {
        "id": "oRl5yLKNYE_H"
      },
      "source": [
        "Library yang biasa digunakan:\n",
        "\n",
        "1. Pandas (Python for Data Analysis) : proses analisis data seperti manipulasi data, persiapan data, dan pembersihan data.\n",
        "\n",
        "2. Numpy(Numerical Python) : scientific computing , melakukan operasi vektor dan matriks dengan mengolah array dan array multidimensi, memiliki kemampuan untuk membentuk objek N-dimensional array.\n",
        "\n",
        "3. Matplotlib : visualisasi data seperti membuat plot grafik.\n",
        "\n",
        "4. Seaborn : merupakan library visualisasi berbasis bahasa pemrograman python pengembangan dari matplotlib, dengan seaborn kita dapat membuat visualisasi setara matplotlib dengan lebih cepat."
      ]
    },
    {
      "cell_type": "markdown",
      "metadata": {
        "id": "-kj2edNXZNN9"
      },
      "source": [
        "## ***Import Library***\n",
        "\n",
        "---\n",
        "\n"
      ]
    },
    {
      "cell_type": "markdown",
      "metadata": {
        "id": "-UD5ZFEObwKG"
      },
      "source": [
        "**Pandas** library sebagai alat untuk manipulasi data,\n",
        "**Numpy** untuk *scientific* *computing* dan **Matplotlib** & **Seaborn** untuk visualisasi data."
      ]
    },
    {
      "cell_type": "code",
      "metadata": {
        "id": "eWFpKSDyZGNJ"
      },
      "source": [
        "import pandas as pd\n",
        "import numpy as np\n",
        "import matplotlib.pyplot as plt\n",
        "import seaborn as sns "
      ],
      "execution_count": 1,
      "outputs": []
    },
    {
      "cell_type": "markdown",
      "metadata": {
        "id": "HjUeQkPJZdAU"
      },
      "source": [
        "## ***Import Dataset***\n",
        "\n",
        "---\n",
        "\n"
      ]
    },
    {
      "cell_type": "code",
      "metadata": {
        "id": "7Ntq01qFZ5n7",
        "colab": {
          "base_uri": "https://localhost:8080/"
        },
        "outputId": "f1eac894-ff65-4caa-e9fa-0988d1c4b2f0"
      },
      "source": [
        "#melakukan download terhadap data yang kita inginkan dengan ID tertentu\n",
        "!gdown --id 1Wt8MvyGufcfiqef9-wZNEiGoG5QIqS46"
      ],
      "execution_count": 2,
      "outputs": [
        {
          "output_type": "stream",
          "name": "stdout",
          "text": [
            "Downloading...\n",
            "From: https://drive.google.com/uc?id=1Wt8MvyGufcfiqef9-wZNEiGoG5QIqS46\n",
            "To: /content/kendaraan_train.csv\n",
            "\r  0% 0.00/15.2M [00:00<?, ?B/s]\r 96% 14.7M/15.2M [00:00<00:00, 145MB/s]\r100% 15.2M/15.2M [00:00<00:00, 134MB/s]\n"
          ]
        }
      ]
    },
    {
      "cell_type": "markdown",
      "metadata": {
        "id": "XTVNfFNTw5uL"
      },
      "source": [
        "Membuat sebuah dataframe"
      ]
    },
    {
      "cell_type": "code",
      "metadata": {
        "id": "DsPiiOnERgtX"
      },
      "source": [
        "#melakukan load data kedalam pandas dataframe\n",
        "df = pd.read_csv('kendaraan_train.csv').drop('id', axis=1)"
      ],
      "execution_count": 3,
      "outputs": []
    },
    {
      "cell_type": "markdown",
      "metadata": {
        "id": "sBlf4wR7dW7A"
      },
      "source": [
        "Load data dan tampilkan nilai 5 teratas dari data\n",
        "\n"
      ]
    },
    {
      "cell_type": "code",
      "metadata": {
        "colab": {
          "base_uri": "https://localhost:8080/",
          "height": 206
        },
        "id": "NF1DTrYlRihe",
        "outputId": "d01b6c4f-d488-488e-dc36-cd977dff89c7"
      },
      "source": [
        "#mengeluarkan 5 nilai teratas pada data\n",
        "df.head()"
      ],
      "execution_count": 4,
      "outputs": [
        {
          "output_type": "execute_result",
          "data": {
            "text/html": [
              "<div>\n",
              "<style scoped>\n",
              "    .dataframe tbody tr th:only-of-type {\n",
              "        vertical-align: middle;\n",
              "    }\n",
              "\n",
              "    .dataframe tbody tr th {\n",
              "        vertical-align: top;\n",
              "    }\n",
              "\n",
              "    .dataframe thead th {\n",
              "        text-align: right;\n",
              "    }\n",
              "</style>\n",
              "<table border=\"1\" class=\"dataframe\">\n",
              "  <thead>\n",
              "    <tr style=\"text-align: right;\">\n",
              "      <th></th>\n",
              "      <th>Jenis_Kelamin</th>\n",
              "      <th>Umur</th>\n",
              "      <th>SIM</th>\n",
              "      <th>Kode_Daerah</th>\n",
              "      <th>Sudah_Asuransi</th>\n",
              "      <th>Umur_Kendaraan</th>\n",
              "      <th>Kendaraan_Rusak</th>\n",
              "      <th>Premi</th>\n",
              "      <th>Kanal_Penjualan</th>\n",
              "      <th>Lama_Berlangganan</th>\n",
              "      <th>Tertarik</th>\n",
              "    </tr>\n",
              "  </thead>\n",
              "  <tbody>\n",
              "    <tr>\n",
              "      <th>0</th>\n",
              "      <td>Wanita</td>\n",
              "      <td>30.0</td>\n",
              "      <td>1.0</td>\n",
              "      <td>33.0</td>\n",
              "      <td>1.0</td>\n",
              "      <td>&lt; 1 Tahun</td>\n",
              "      <td>Tidak</td>\n",
              "      <td>28029.0</td>\n",
              "      <td>152.0</td>\n",
              "      <td>97.0</td>\n",
              "      <td>0</td>\n",
              "    </tr>\n",
              "    <tr>\n",
              "      <th>1</th>\n",
              "      <td>Pria</td>\n",
              "      <td>48.0</td>\n",
              "      <td>1.0</td>\n",
              "      <td>39.0</td>\n",
              "      <td>0.0</td>\n",
              "      <td>&gt; 2 Tahun</td>\n",
              "      <td>Pernah</td>\n",
              "      <td>25800.0</td>\n",
              "      <td>29.0</td>\n",
              "      <td>158.0</td>\n",
              "      <td>0</td>\n",
              "    </tr>\n",
              "    <tr>\n",
              "      <th>2</th>\n",
              "      <td>NaN</td>\n",
              "      <td>21.0</td>\n",
              "      <td>1.0</td>\n",
              "      <td>46.0</td>\n",
              "      <td>1.0</td>\n",
              "      <td>&lt; 1 Tahun</td>\n",
              "      <td>Tidak</td>\n",
              "      <td>32733.0</td>\n",
              "      <td>160.0</td>\n",
              "      <td>119.0</td>\n",
              "      <td>0</td>\n",
              "    </tr>\n",
              "    <tr>\n",
              "      <th>3</th>\n",
              "      <td>Wanita</td>\n",
              "      <td>58.0</td>\n",
              "      <td>1.0</td>\n",
              "      <td>48.0</td>\n",
              "      <td>0.0</td>\n",
              "      <td>1-2 Tahun</td>\n",
              "      <td>Tidak</td>\n",
              "      <td>2630.0</td>\n",
              "      <td>124.0</td>\n",
              "      <td>63.0</td>\n",
              "      <td>0</td>\n",
              "    </tr>\n",
              "    <tr>\n",
              "      <th>4</th>\n",
              "      <td>Pria</td>\n",
              "      <td>50.0</td>\n",
              "      <td>1.0</td>\n",
              "      <td>35.0</td>\n",
              "      <td>0.0</td>\n",
              "      <td>&gt; 2 Tahun</td>\n",
              "      <td>NaN</td>\n",
              "      <td>34857.0</td>\n",
              "      <td>88.0</td>\n",
              "      <td>194.0</td>\n",
              "      <td>0</td>\n",
              "    </tr>\n",
              "  </tbody>\n",
              "</table>\n",
              "</div>"
            ],
            "text/plain": [
              "  Jenis_Kelamin  Umur  SIM  ...  Kanal_Penjualan  Lama_Berlangganan Tertarik\n",
              "0        Wanita  30.0  1.0  ...            152.0               97.0        0\n",
              "1          Pria  48.0  1.0  ...             29.0              158.0        0\n",
              "2           NaN  21.0  1.0  ...            160.0              119.0        0\n",
              "3        Wanita  58.0  1.0  ...            124.0               63.0        0\n",
              "4          Pria  50.0  1.0  ...             88.0              194.0        0\n",
              "\n",
              "[5 rows x 11 columns]"
            ]
          },
          "metadata": {},
          "execution_count": 4
        }
      ]
    },
    {
      "cell_type": "code",
      "metadata": {
        "colab": {
          "base_uri": "https://localhost:8080/",
          "height": 206
        },
        "id": "93Ae_fNN0GgC",
        "outputId": "ec9e0ca5-cc57-4457-d3ac-d9ef2036a280"
      },
      "source": [
        "#mengeluarkan 5 nilai terbawah pada data\n",
        "df.tail()"
      ],
      "execution_count": 5,
      "outputs": [
        {
          "output_type": "execute_result",
          "data": {
            "text/html": [
              "<div>\n",
              "<style scoped>\n",
              "    .dataframe tbody tr th:only-of-type {\n",
              "        vertical-align: middle;\n",
              "    }\n",
              "\n",
              "    .dataframe tbody tr th {\n",
              "        vertical-align: top;\n",
              "    }\n",
              "\n",
              "    .dataframe thead th {\n",
              "        text-align: right;\n",
              "    }\n",
              "</style>\n",
              "<table border=\"1\" class=\"dataframe\">\n",
              "  <thead>\n",
              "    <tr style=\"text-align: right;\">\n",
              "      <th></th>\n",
              "      <th>Jenis_Kelamin</th>\n",
              "      <th>Umur</th>\n",
              "      <th>SIM</th>\n",
              "      <th>Kode_Daerah</th>\n",
              "      <th>Sudah_Asuransi</th>\n",
              "      <th>Umur_Kendaraan</th>\n",
              "      <th>Kendaraan_Rusak</th>\n",
              "      <th>Premi</th>\n",
              "      <th>Kanal_Penjualan</th>\n",
              "      <th>Lama_Berlangganan</th>\n",
              "      <th>Tertarik</th>\n",
              "    </tr>\n",
              "  </thead>\n",
              "  <tbody>\n",
              "    <tr>\n",
              "      <th>285826</th>\n",
              "      <td>Wanita</td>\n",
              "      <td>23.0</td>\n",
              "      <td>1.0</td>\n",
              "      <td>4.0</td>\n",
              "      <td>1.0</td>\n",
              "      <td>&lt; 1 Tahun</td>\n",
              "      <td>Tidak</td>\n",
              "      <td>25988.0</td>\n",
              "      <td>152.0</td>\n",
              "      <td>217.0</td>\n",
              "      <td>0</td>\n",
              "    </tr>\n",
              "    <tr>\n",
              "      <th>285827</th>\n",
              "      <td>Wanita</td>\n",
              "      <td>21.0</td>\n",
              "      <td>1.0</td>\n",
              "      <td>46.0</td>\n",
              "      <td>1.0</td>\n",
              "      <td>&lt; 1 Tahun</td>\n",
              "      <td>Tidak</td>\n",
              "      <td>44686.0</td>\n",
              "      <td>152.0</td>\n",
              "      <td>50.0</td>\n",
              "      <td>0</td>\n",
              "    </tr>\n",
              "    <tr>\n",
              "      <th>285828</th>\n",
              "      <td>Wanita</td>\n",
              "      <td>23.0</td>\n",
              "      <td>1.0</td>\n",
              "      <td>50.0</td>\n",
              "      <td>1.0</td>\n",
              "      <td>&lt; 1 Tahun</td>\n",
              "      <td>Tidak</td>\n",
              "      <td>49751.0</td>\n",
              "      <td>152.0</td>\n",
              "      <td>226.0</td>\n",
              "      <td>0</td>\n",
              "    </tr>\n",
              "    <tr>\n",
              "      <th>285829</th>\n",
              "      <td>Pria</td>\n",
              "      <td>68.0</td>\n",
              "      <td>1.0</td>\n",
              "      <td>7.0</td>\n",
              "      <td>1.0</td>\n",
              "      <td>1-2 Tahun</td>\n",
              "      <td>Tidak</td>\n",
              "      <td>30503.0</td>\n",
              "      <td>124.0</td>\n",
              "      <td>270.0</td>\n",
              "      <td>0</td>\n",
              "    </tr>\n",
              "    <tr>\n",
              "      <th>285830</th>\n",
              "      <td>Pria</td>\n",
              "      <td>45.0</td>\n",
              "      <td>1.0</td>\n",
              "      <td>28.0</td>\n",
              "      <td>0.0</td>\n",
              "      <td>1-2 Tahun</td>\n",
              "      <td>Pernah</td>\n",
              "      <td>36480.0</td>\n",
              "      <td>26.0</td>\n",
              "      <td>44.0</td>\n",
              "      <td>0</td>\n",
              "    </tr>\n",
              "  </tbody>\n",
              "</table>\n",
              "</div>"
            ],
            "text/plain": [
              "       Jenis_Kelamin  Umur  SIM  ...  Kanal_Penjualan  Lama_Berlangganan Tertarik\n",
              "285826        Wanita  23.0  1.0  ...            152.0              217.0        0\n",
              "285827        Wanita  21.0  1.0  ...            152.0               50.0        0\n",
              "285828        Wanita  23.0  1.0  ...            152.0              226.0        0\n",
              "285829          Pria  68.0  1.0  ...            124.0              270.0        0\n",
              "285830          Pria  45.0  1.0  ...             26.0               44.0        0\n",
              "\n",
              "[5 rows x 11 columns]"
            ]
          },
          "metadata": {},
          "execution_count": 5
        }
      ]
    },
    {
      "cell_type": "code",
      "metadata": {
        "colab": {
          "base_uri": "https://localhost:8080/",
          "height": 81
        },
        "id": "CgLIxRjN0Myi",
        "outputId": "fc5fdcb1-9144-45c2-8642-019b6be0b220"
      },
      "source": [
        "#mengeluarkan 1...N nilai secara random pada data\n",
        "df.sample()"
      ],
      "execution_count": 6,
      "outputs": [
        {
          "output_type": "execute_result",
          "data": {
            "text/html": [
              "<div>\n",
              "<style scoped>\n",
              "    .dataframe tbody tr th:only-of-type {\n",
              "        vertical-align: middle;\n",
              "    }\n",
              "\n",
              "    .dataframe tbody tr th {\n",
              "        vertical-align: top;\n",
              "    }\n",
              "\n",
              "    .dataframe thead th {\n",
              "        text-align: right;\n",
              "    }\n",
              "</style>\n",
              "<table border=\"1\" class=\"dataframe\">\n",
              "  <thead>\n",
              "    <tr style=\"text-align: right;\">\n",
              "      <th></th>\n",
              "      <th>Jenis_Kelamin</th>\n",
              "      <th>Umur</th>\n",
              "      <th>SIM</th>\n",
              "      <th>Kode_Daerah</th>\n",
              "      <th>Sudah_Asuransi</th>\n",
              "      <th>Umur_Kendaraan</th>\n",
              "      <th>Kendaraan_Rusak</th>\n",
              "      <th>Premi</th>\n",
              "      <th>Kanal_Penjualan</th>\n",
              "      <th>Lama_Berlangganan</th>\n",
              "      <th>Tertarik</th>\n",
              "    </tr>\n",
              "  </thead>\n",
              "  <tbody>\n",
              "    <tr>\n",
              "      <th>60208</th>\n",
              "      <td>Wanita</td>\n",
              "      <td>45.0</td>\n",
              "      <td>1.0</td>\n",
              "      <td>8.0</td>\n",
              "      <td>0.0</td>\n",
              "      <td>1-2 Tahun</td>\n",
              "      <td>Pernah</td>\n",
              "      <td>31609.0</td>\n",
              "      <td>124.0</td>\n",
              "      <td>255.0</td>\n",
              "      <td>0</td>\n",
              "    </tr>\n",
              "  </tbody>\n",
              "</table>\n",
              "</div>"
            ],
            "text/plain": [
              "      Jenis_Kelamin  Umur  SIM  ...  Kanal_Penjualan  Lama_Berlangganan Tertarik\n",
              "60208        Wanita  45.0  1.0  ...            124.0              255.0        0\n",
              "\n",
              "[1 rows x 11 columns]"
            ]
          },
          "metadata": {},
          "execution_count": 6
        }
      ]
    },
    {
      "cell_type": "markdown",
      "metadata": {
        "id": "xNrNmrLebAzr"
      },
      "source": [
        "## ***Exploratory Data***\n",
        "\n",
        "---\n",
        "\n"
      ]
    },
    {
      "cell_type": "markdown",
      "metadata": {
        "id": "aaVE5t12JLA8"
      },
      "source": [
        "***df.info berguna untuk menampilkan jumlah dari rows, columns, etc.***"
      ]
    },
    {
      "cell_type": "code",
      "metadata": {
        "colab": {
          "base_uri": "https://localhost:8080/"
        },
        "id": "Jp63M5iZjbBm",
        "outputId": "d40fb3cc-70f3-4781-97bc-83b3be613a67"
      },
      "source": [
        "df.info()"
      ],
      "execution_count": 7,
      "outputs": [
        {
          "output_type": "stream",
          "name": "stdout",
          "text": [
            "<class 'pandas.core.frame.DataFrame'>\n",
            "RangeIndex: 285831 entries, 0 to 285830\n",
            "Data columns (total 11 columns):\n",
            " #   Column             Non-Null Count   Dtype  \n",
            "---  ------             --------------   -----  \n",
            " 0   Jenis_Kelamin      271391 non-null  object \n",
            " 1   Umur               271617 non-null  float64\n",
            " 2   SIM                271427 non-null  float64\n",
            " 3   Kode_Daerah        271525 non-null  float64\n",
            " 4   Sudah_Asuransi     271602 non-null  float64\n",
            " 5   Umur_Kendaraan     271556 non-null  object \n",
            " 6   Kendaraan_Rusak    271643 non-null  object \n",
            " 7   Premi              271262 non-null  float64\n",
            " 8   Kanal_Penjualan    271532 non-null  float64\n",
            " 9   Lama_Berlangganan  271839 non-null  float64\n",
            " 10  Tertarik           285831 non-null  int64  \n",
            "dtypes: float64(7), int64(1), object(3)\n",
            "memory usage: 24.0+ MB\n"
          ]
        }
      ]
    },
    {
      "cell_type": "markdown",
      "metadata": {
        "id": "A84hLzagHxwg"
      },
      "source": [
        "***df.shape berguna untuk mendapatkan jumlah dari columns dan row.***\n",
        "\n",
        "\n",
        "\n",
        "\n",
        "[pandas.pydata.org](https://pandas.pydata.org/pandas-docs/stable/reference/api/pandas.DataFrame.shape.html)\n",
        "\n",
        "[note.nkmk.me](https://note.nkmk.me/en/python-pandas-len-shape-size/)"
      ]
    },
    {
      "cell_type": "code",
      "metadata": {
        "id": "TEGKBXGRbJjj",
        "colab": {
          "base_uri": "https://localhost:8080/"
        },
        "outputId": "ddc1647b-ed77-493f-c56a-ed2b425ec04e"
      },
      "source": [
        "df.shape"
      ],
      "execution_count": 8,
      "outputs": [
        {
          "output_type": "execute_result",
          "data": {
            "text/plain": [
              "(285831, 11)"
            ]
          },
          "metadata": {},
          "execution_count": 8
        }
      ]
    },
    {
      "cell_type": "markdown",
      "metadata": {
        "id": "quGdx1ttxhnh"
      },
      "source": [
        "melihat banyak row atau jumlah data yang dimiliki dataframe"
      ]
    },
    {
      "cell_type": "code",
      "metadata": {
        "colab": {
          "base_uri": "https://localhost:8080/"
        },
        "id": "4QCVgNV8xdIK",
        "outputId": "5ed34146-57ab-4413-ffec-cdfb99672bca"
      },
      "source": [
        "len(df)"
      ],
      "execution_count": 9,
      "outputs": [
        {
          "output_type": "execute_result",
          "data": {
            "text/plain": [
              "285831"
            ]
          },
          "metadata": {},
          "execution_count": 9
        }
      ]
    },
    {
      "cell_type": "markdown",
      "metadata": {
        "id": "AhqGkw6_d9sm"
      },
      "source": [
        "Menampilkan statistik deskriptif"
      ]
    },
    {
      "cell_type": "code",
      "metadata": {
        "id": "Pndlmt3WjGsG",
        "colab": {
          "base_uri": "https://localhost:8080/",
          "height": 300
        },
        "outputId": "5df3e6a1-c648-4eb2-a522-878d1922e561"
      },
      "source": [
        "df.describe()"
      ],
      "execution_count": 10,
      "outputs": [
        {
          "output_type": "execute_result",
          "data": {
            "text/html": [
              "<div>\n",
              "<style scoped>\n",
              "    .dataframe tbody tr th:only-of-type {\n",
              "        vertical-align: middle;\n",
              "    }\n",
              "\n",
              "    .dataframe tbody tr th {\n",
              "        vertical-align: top;\n",
              "    }\n",
              "\n",
              "    .dataframe thead th {\n",
              "        text-align: right;\n",
              "    }\n",
              "</style>\n",
              "<table border=\"1\" class=\"dataframe\">\n",
              "  <thead>\n",
              "    <tr style=\"text-align: right;\">\n",
              "      <th></th>\n",
              "      <th>Umur</th>\n",
              "      <th>SIM</th>\n",
              "      <th>Kode_Daerah</th>\n",
              "      <th>Sudah_Asuransi</th>\n",
              "      <th>Premi</th>\n",
              "      <th>Kanal_Penjualan</th>\n",
              "      <th>Lama_Berlangganan</th>\n",
              "      <th>Tertarik</th>\n",
              "    </tr>\n",
              "  </thead>\n",
              "  <tbody>\n",
              "    <tr>\n",
              "      <th>count</th>\n",
              "      <td>271617.000000</td>\n",
              "      <td>271427.000000</td>\n",
              "      <td>271525.000000</td>\n",
              "      <td>271602.000000</td>\n",
              "      <td>271262.000000</td>\n",
              "      <td>271532.000000</td>\n",
              "      <td>271839.000000</td>\n",
              "      <td>285831.000000</td>\n",
              "    </tr>\n",
              "    <tr>\n",
              "      <th>mean</th>\n",
              "      <td>38.844336</td>\n",
              "      <td>0.997848</td>\n",
              "      <td>26.405410</td>\n",
              "      <td>0.458778</td>\n",
              "      <td>30536.683472</td>\n",
              "      <td>112.021567</td>\n",
              "      <td>154.286302</td>\n",
              "      <td>0.122471</td>\n",
              "    </tr>\n",
              "    <tr>\n",
              "      <th>std</th>\n",
              "      <td>15.522487</td>\n",
              "      <td>0.046335</td>\n",
              "      <td>13.252714</td>\n",
              "      <td>0.498299</td>\n",
              "      <td>17155.000770</td>\n",
              "      <td>54.202457</td>\n",
              "      <td>83.694910</td>\n",
              "      <td>0.327830</td>\n",
              "    </tr>\n",
              "    <tr>\n",
              "      <th>min</th>\n",
              "      <td>20.000000</td>\n",
              "      <td>0.000000</td>\n",
              "      <td>0.000000</td>\n",
              "      <td>0.000000</td>\n",
              "      <td>2630.000000</td>\n",
              "      <td>1.000000</td>\n",
              "      <td>10.000000</td>\n",
              "      <td>0.000000</td>\n",
              "    </tr>\n",
              "    <tr>\n",
              "      <th>25%</th>\n",
              "      <td>25.000000</td>\n",
              "      <td>1.000000</td>\n",
              "      <td>15.000000</td>\n",
              "      <td>0.000000</td>\n",
              "      <td>24398.000000</td>\n",
              "      <td>29.000000</td>\n",
              "      <td>82.000000</td>\n",
              "      <td>0.000000</td>\n",
              "    </tr>\n",
              "    <tr>\n",
              "      <th>50%</th>\n",
              "      <td>36.000000</td>\n",
              "      <td>1.000000</td>\n",
              "      <td>28.000000</td>\n",
              "      <td>0.000000</td>\n",
              "      <td>31646.000000</td>\n",
              "      <td>132.000000</td>\n",
              "      <td>154.000000</td>\n",
              "      <td>0.000000</td>\n",
              "    </tr>\n",
              "    <tr>\n",
              "      <th>75%</th>\n",
              "      <td>49.000000</td>\n",
              "      <td>1.000000</td>\n",
              "      <td>35.000000</td>\n",
              "      <td>1.000000</td>\n",
              "      <td>39377.750000</td>\n",
              "      <td>152.000000</td>\n",
              "      <td>227.000000</td>\n",
              "      <td>0.000000</td>\n",
              "    </tr>\n",
              "    <tr>\n",
              "      <th>max</th>\n",
              "      <td>85.000000</td>\n",
              "      <td>1.000000</td>\n",
              "      <td>52.000000</td>\n",
              "      <td>1.000000</td>\n",
              "      <td>540165.000000</td>\n",
              "      <td>163.000000</td>\n",
              "      <td>299.000000</td>\n",
              "      <td>1.000000</td>\n",
              "    </tr>\n",
              "  </tbody>\n",
              "</table>\n",
              "</div>"
            ],
            "text/plain": [
              "                Umur            SIM  ...  Lama_Berlangganan       Tertarik\n",
              "count  271617.000000  271427.000000  ...      271839.000000  285831.000000\n",
              "mean       38.844336       0.997848  ...         154.286302       0.122471\n",
              "std        15.522487       0.046335  ...          83.694910       0.327830\n",
              "min        20.000000       0.000000  ...          10.000000       0.000000\n",
              "25%        25.000000       1.000000  ...          82.000000       0.000000\n",
              "50%        36.000000       1.000000  ...         154.000000       0.000000\n",
              "75%        49.000000       1.000000  ...         227.000000       0.000000\n",
              "max        85.000000       1.000000  ...         299.000000       1.000000\n",
              "\n",
              "[8 rows x 8 columns]"
            ]
          },
          "metadata": {},
          "execution_count": 10
        }
      ]
    },
    {
      "cell_type": "markdown",
      "metadata": {
        "id": "Y7oShn8dkE4W"
      },
      "source": [
        "## **Visualisasi data**\n",
        "\n",
        "---\n",
        "\n"
      ]
    },
    {
      "cell_type": "markdown",
      "metadata": {
        "id": "UW5E7io22zLD"
      },
      "source": [
        "**sedikit note**\n",
        "- data kontinu: umur, premi, dan lama_berlangganan\n",
        "- data kategori ordinal(keterurutan): umur_kendaraan\n",
        "- data kategori nominal(angka melambangkan kategori): jenis_kelamin, SIM, kode_daerah, Sudah_asuransi,\n",
        "Kendaraan_Rusak, Kanal_Penjualan\n",
        "- data Target: Tertarik"
      ]
    },
    {
      "cell_type": "markdown",
      "metadata": {
        "id": "t6hTPpSA3SHb"
      },
      "source": [
        "loh kok gitu ?"
      ]
    },
    {
      "cell_type": "code",
      "metadata": {
        "colab": {
          "base_uri": "https://localhost:8080/",
          "height": 206
        },
        "id": "LVZF9Kz54ihK",
        "outputId": "84620be5-9704-468d-e4aa-b9444c58d28f"
      },
      "source": [
        "df.sample(5)"
      ],
      "execution_count": 11,
      "outputs": [
        {
          "output_type": "execute_result",
          "data": {
            "text/html": [
              "<div>\n",
              "<style scoped>\n",
              "    .dataframe tbody tr th:only-of-type {\n",
              "        vertical-align: middle;\n",
              "    }\n",
              "\n",
              "    .dataframe tbody tr th {\n",
              "        vertical-align: top;\n",
              "    }\n",
              "\n",
              "    .dataframe thead th {\n",
              "        text-align: right;\n",
              "    }\n",
              "</style>\n",
              "<table border=\"1\" class=\"dataframe\">\n",
              "  <thead>\n",
              "    <tr style=\"text-align: right;\">\n",
              "      <th></th>\n",
              "      <th>Jenis_Kelamin</th>\n",
              "      <th>Umur</th>\n",
              "      <th>SIM</th>\n",
              "      <th>Kode_Daerah</th>\n",
              "      <th>Sudah_Asuransi</th>\n",
              "      <th>Umur_Kendaraan</th>\n",
              "      <th>Kendaraan_Rusak</th>\n",
              "      <th>Premi</th>\n",
              "      <th>Kanal_Penjualan</th>\n",
              "      <th>Lama_Berlangganan</th>\n",
              "      <th>Tertarik</th>\n",
              "    </tr>\n",
              "  </thead>\n",
              "  <tbody>\n",
              "    <tr>\n",
              "      <th>100650</th>\n",
              "      <td>Wanita</td>\n",
              "      <td>36.0</td>\n",
              "      <td>1.0</td>\n",
              "      <td>15.0</td>\n",
              "      <td>0.0</td>\n",
              "      <td>1-2 Tahun</td>\n",
              "      <td>Tidak</td>\n",
              "      <td>NaN</td>\n",
              "      <td>152.0</td>\n",
              "      <td>114.0</td>\n",
              "      <td>0</td>\n",
              "    </tr>\n",
              "    <tr>\n",
              "      <th>135840</th>\n",
              "      <td>Wanita</td>\n",
              "      <td>24.0</td>\n",
              "      <td>1.0</td>\n",
              "      <td>6.0</td>\n",
              "      <td>1.0</td>\n",
              "      <td>&lt; 1 Tahun</td>\n",
              "      <td>Tidak</td>\n",
              "      <td>26290.0</td>\n",
              "      <td>152.0</td>\n",
              "      <td>221.0</td>\n",
              "      <td>0</td>\n",
              "    </tr>\n",
              "    <tr>\n",
              "      <th>264254</th>\n",
              "      <td>Wanita</td>\n",
              "      <td>24.0</td>\n",
              "      <td>1.0</td>\n",
              "      <td>17.0</td>\n",
              "      <td>1.0</td>\n",
              "      <td>&lt; 1 Tahun</td>\n",
              "      <td>Tidak</td>\n",
              "      <td>23523.0</td>\n",
              "      <td>152.0</td>\n",
              "      <td>206.0</td>\n",
              "      <td>0</td>\n",
              "    </tr>\n",
              "    <tr>\n",
              "      <th>270565</th>\n",
              "      <td>Pria</td>\n",
              "      <td>23.0</td>\n",
              "      <td>1.0</td>\n",
              "      <td>28.0</td>\n",
              "      <td>0.0</td>\n",
              "      <td>&lt; 1 Tahun</td>\n",
              "      <td>NaN</td>\n",
              "      <td>2630.0</td>\n",
              "      <td>156.0</td>\n",
              "      <td>219.0</td>\n",
              "      <td>0</td>\n",
              "    </tr>\n",
              "    <tr>\n",
              "      <th>167213</th>\n",
              "      <td>Pria</td>\n",
              "      <td>20.0</td>\n",
              "      <td>1.0</td>\n",
              "      <td>3.0</td>\n",
              "      <td>0.0</td>\n",
              "      <td>&lt; 1 Tahun</td>\n",
              "      <td>Tidak</td>\n",
              "      <td>32180.0</td>\n",
              "      <td>160.0</td>\n",
              "      <td>110.0</td>\n",
              "      <td>0</td>\n",
              "    </tr>\n",
              "  </tbody>\n",
              "</table>\n",
              "</div>"
            ],
            "text/plain": [
              "       Jenis_Kelamin  Umur  SIM  ...  Kanal_Penjualan  Lama_Berlangganan Tertarik\n",
              "100650        Wanita  36.0  1.0  ...            152.0              114.0        0\n",
              "135840        Wanita  24.0  1.0  ...            152.0              221.0        0\n",
              "264254        Wanita  24.0  1.0  ...            152.0              206.0        0\n",
              "270565          Pria  23.0  1.0  ...            156.0              219.0        0\n",
              "167213          Pria  20.0  1.0  ...            160.0              110.0        0\n",
              "\n",
              "[5 rows x 11 columns]"
            ]
          },
          "metadata": {},
          "execution_count": 11
        }
      ]
    },
    {
      "cell_type": "markdown",
      "metadata": {
        "id": "tkd5xsVEeMSF"
      },
      "source": [
        "### visualisasi dengan **seaborn**\n",
        "\n"
      ]
    },
    {
      "cell_type": "markdown",
      "metadata": {
        "id": "cLgERrt54yGz"
      },
      "source": [
        "[visualisasi dengan distplot](https://seaborn.pydata.org/generated/seaborn.distplot.html)"
      ]
    },
    {
      "cell_type": "code",
      "metadata": {
        "id": "MdC3wDE-sIm8",
        "colab": {
          "base_uri": "https://localhost:8080/",
          "height": 410
        },
        "outputId": "52ffc538-1860-4820-cd27-b58046705e8c"
      },
      "source": [
        "#melihat sebaran atau distribusi umur dengan visualisasi seaborn \n",
        "sns.set()\n",
        "plt.figure(figsize=(10,5))\n",
        "sns.distplot(df['Umur'])\n",
        "plt.xlabel('Umur')\n",
        "plt.title('SEBARAN DATA UMUR', fontweight='bold')\n",
        "plt.show()"
      ],
      "execution_count": 12,
      "outputs": [
        {
          "output_type": "stream",
          "name": "stderr",
          "text": [
            "/usr/local/lib/python3.7/dist-packages/seaborn/distributions.py:2619: FutureWarning: `distplot` is a deprecated function and will be removed in a future version. Please adapt your code to use either `displot` (a figure-level function with similar flexibility) or `histplot` (an axes-level function for histograms).\n",
            "  warnings.warn(msg, FutureWarning)\n"
          ]
        },
        {
          "output_type": "display_data",
          "data": {
            "image/png": "[encoded data removed]",
            "text/plain": [
              "<Figure size 720x360 with 1 Axes>"
            ]
          },
          "metadata": {}
        }
      ]
    },
    {
      "cell_type": "markdown",
      "metadata": {
        "id": "Cv4k4Aub43wh"
      },
      "source": [
        "[visualisasi dengan KDE plot](https://seaborn.pydata.org/generated/seaborn.kdeplot.html)"
      ]
    },
    {
      "cell_type": "code",
      "metadata": {
        "colab": {
          "base_uri": "https://localhost:8080/",
          "height": 478
        },
        "id": "phJCiJKZ2h26",
        "outputId": "3a6b511c-3f6d-45ac-8120-d140bbc8d331"
      },
      "source": [
        "fig, ax = plt.subplots(1, 3, figsize=(18, 6))\n",
        "\n",
        "sns.kdeplot(data=df, x=\"Umur\", ax=ax[0], shade=True, alpha=1)\n",
        "sns.kdeplot(data=df, x=\"Premi\", ax=ax[1], shade=True, alpha=1)\n",
        "sns.kdeplot(data=df, x=\"Lama_Berlangganan\", ax=ax[2], shade=True, alpha=1)\n",
        "\n",
        "col = [\"Umur\", \"Premi\", \"Lama_Berlangganan\"]\n",
        "for i in range(3) : \n",
        "    ax[i].grid(axis='y', alpha=0.3)\n",
        "    ax[i].set_axisbelow(True)\n",
        "    ax[i].spines['right'].set_visible(False)\n",
        "    ax[i].spines['left'].set_visible(False)\n",
        "    ax[i].spines['top'].set_visible(False)\n",
        "    ax[i].set_title(col[i], fontsize=14)\n",
        "    ax[i].tick_params(labelsize=12)\n",
        "    ax[i].set_xlabel(col[i], fontsize=14, labelpad=10, fontweight='bold')\n",
        "    ax[i].set_ylabel(None)\n",
        "\n",
        "ax[0].set_ylabel(\"Density\", fontsize=14, labelpad=10, fontweight='bold')\n",
        "\n",
        "  \n",
        "plt.suptitle(\"Distribusi data kontinu\\n\", ha='center', va='center', x=0.5, y=1.02, fontsize=18, fontweight='bold')\n",
        "plt.tight_layout()\n",
        "plt.show()"
      ],
      "execution_count": 13,
      "outputs": [
        {
          "output_type": "display_data",
          "data": {
            "image/png": "[encoded data removed]",
            "text/plain": [
              "<Figure size 1296x432 with 3 Axes>"
            ]
          },
          "metadata": {}
        }
      ]
    },
    {
      "cell_type": "markdown",
      "metadata": {
        "id": "khXjiCOBfKTw"
      },
      "source": [
        "Cara melihat sebaran data \"*Umur_Kendaraan*\" dengan ***countplot***"
      ]
    },
    {
      "cell_type": "code",
      "metadata": {
        "id": "8hct51Y9uAEk",
        "colab": {
          "base_uri": "https://localhost:8080/",
          "height": 410
        },
        "outputId": "cd0fba3a-61f6-4ab1-8395-3f8f23ea4948"
      },
      "source": [
        "sns.set()\n",
        "plt.figure(figsize=(10,5))\n",
        "sns.countplot(df['Umur_Kendaraan'])\n",
        "plt.xlabel('Umur_Kendaraan')\n",
        "plt.title('JUMLAH KENDARAAN BERDASARKAN UMUR', fontweight='bold')\n",
        "plt.show()"
      ],
      "execution_count": 14,
      "outputs": [
        {
          "output_type": "stream",
          "name": "stderr",
          "text": [
            "/usr/local/lib/python3.7/dist-packages/seaborn/_decorators.py:43: FutureWarning: Pass the following variable as a keyword arg: x. From version 0.12, the only valid positional argument will be `data`, and passing other arguments without an explicit keyword will result in an error or misinterpretation.\n",
            "  FutureWarning\n"
          ]
        },
        {
          "output_type": "display_data",
          "data": {
            "image/png": "[encoded data removed]",
            "text/plain": [
              "<Figure size 720x360 with 1 Axes>"
            ]
          },
          "metadata": {}
        }
      ]
    },
    {
      "cell_type": "markdown",
      "metadata": {
        "id": "u2yU7H1zfdxJ"
      },
      "source": [
        "Cara melihat hubungan antara lama berlangganan dengan premi menggunakan ***scatterplot***"
      ]
    },
    {
      "cell_type": "code",
      "metadata": {
        "id": "RtESvC_jwNSA",
        "colab": {
          "base_uri": "https://localhost:8080/",
          "height": 355
        },
        "outputId": "e496d454-bed5-477d-f938-cdb522dfd010"
      },
      "source": [
        "sns.set()\n",
        "plt.figure(figsize=(10,5))\n",
        "sns.scatterplot(x=df['Lama_Berlangganan'], y=df['Premi'])\n",
        "plt.xlabel('Lama_Berlangganan')\n",
        "plt.title('HUBUNGAN ANTARA UMUR DENGAN KANAL PENJUALAN', fontweight='bold')\n",
        "plt.show()"
      ],
      "execution_count": 15,
      "outputs": [
        {
          "output_type": "display_data",
          "data": {
            "image/png": "[encoded data removed]",
            "text/plain": [
              "<Figure size 720x360 with 1 Axes>"
            ]
          },
          "metadata": {}
        }
      ]
    },
    {
      "cell_type": "markdown",
      "metadata": {
        "id": "wErd5CWhfjsw"
      },
      "source": [
        "Bagaimana cara ***sorting*** data berdasarkan lama berlangganan?"
      ]
    },
    {
      "cell_type": "code",
      "metadata": {
        "id": "pGSYaqiRxCMz",
        "colab": {
          "base_uri": "https://localhost:8080/",
          "height": 363
        },
        "outputId": "85790a57-6741-47fd-e85a-76dda87e54a2"
      },
      "source": [
        "newDF = df.sort_values('Lama_Berlangganan', ascending=False)\n",
        "newDF.head(10)"
      ],
      "execution_count": 16,
      "outputs": [
        {
          "output_type": "execute_result",
          "data": {
            "text/html": [
              "<div>\n",
              "<style scoped>\n",
              "    .dataframe tbody tr th:only-of-type {\n",
              "        vertical-align: middle;\n",
              "    }\n",
              "\n",
              "    .dataframe tbody tr th {\n",
              "        vertical-align: top;\n",
              "    }\n",
              "\n",
              "    .dataframe thead th {\n",
              "        text-align: right;\n",
              "    }\n",
              "</style>\n",
              "<table border=\"1\" class=\"dataframe\">\n",
              "  <thead>\n",
              "    <tr style=\"text-align: right;\">\n",
              "      <th></th>\n",
              "      <th>Jenis_Kelamin</th>\n",
              "      <th>Umur</th>\n",
              "      <th>SIM</th>\n",
              "      <th>Kode_Daerah</th>\n",
              "      <th>Sudah_Asuransi</th>\n",
              "      <th>Umur_Kendaraan</th>\n",
              "      <th>Kendaraan_Rusak</th>\n",
              "      <th>Premi</th>\n",
              "      <th>Kanal_Penjualan</th>\n",
              "      <th>Lama_Berlangganan</th>\n",
              "      <th>Tertarik</th>\n",
              "    </tr>\n",
              "  </thead>\n",
              "  <tbody>\n",
              "    <tr>\n",
              "      <th>249862</th>\n",
              "      <td>Wanita</td>\n",
              "      <td>25.0</td>\n",
              "      <td>1.0</td>\n",
              "      <td>7.0</td>\n",
              "      <td>1.0</td>\n",
              "      <td>&lt; 1 Tahun</td>\n",
              "      <td>Tidak</td>\n",
              "      <td>50377.0</td>\n",
              "      <td>NaN</td>\n",
              "      <td>299.0</td>\n",
              "      <td>0</td>\n",
              "    </tr>\n",
              "    <tr>\n",
              "      <th>139005</th>\n",
              "      <td>Wanita</td>\n",
              "      <td>29.0</td>\n",
              "      <td>1.0</td>\n",
              "      <td>50.0</td>\n",
              "      <td>0.0</td>\n",
              "      <td>&lt; 1 Tahun</td>\n",
              "      <td>Tidak</td>\n",
              "      <td>32239.0</td>\n",
              "      <td>160.0</td>\n",
              "      <td>299.0</td>\n",
              "      <td>0</td>\n",
              "    </tr>\n",
              "    <tr>\n",
              "      <th>172191</th>\n",
              "      <td>Pria</td>\n",
              "      <td>22.0</td>\n",
              "      <td>1.0</td>\n",
              "      <td>8.0</td>\n",
              "      <td>1.0</td>\n",
              "      <td>&lt; 1 Tahun</td>\n",
              "      <td>Tidak</td>\n",
              "      <td>37979.0</td>\n",
              "      <td>160.0</td>\n",
              "      <td>299.0</td>\n",
              "      <td>0</td>\n",
              "    </tr>\n",
              "    <tr>\n",
              "      <th>220637</th>\n",
              "      <td>Pria</td>\n",
              "      <td>26.0</td>\n",
              "      <td>1.0</td>\n",
              "      <td>36.0</td>\n",
              "      <td>0.0</td>\n",
              "      <td>&lt; 1 Tahun</td>\n",
              "      <td>Tidak</td>\n",
              "      <td>38937.0</td>\n",
              "      <td>152.0</td>\n",
              "      <td>299.0</td>\n",
              "      <td>0</td>\n",
              "    </tr>\n",
              "    <tr>\n",
              "      <th>162824</th>\n",
              "      <td>Pria</td>\n",
              "      <td>25.0</td>\n",
              "      <td>1.0</td>\n",
              "      <td>19.0</td>\n",
              "      <td>0.0</td>\n",
              "      <td>&lt; 1 Tahun</td>\n",
              "      <td>Pernah</td>\n",
              "      <td>2630.0</td>\n",
              "      <td>160.0</td>\n",
              "      <td>299.0</td>\n",
              "      <td>0</td>\n",
              "    </tr>\n",
              "    <tr>\n",
              "      <th>123492</th>\n",
              "      <td>Pria</td>\n",
              "      <td>56.0</td>\n",
              "      <td>1.0</td>\n",
              "      <td>27.0</td>\n",
              "      <td>0.0</td>\n",
              "      <td>1-2 Tahun</td>\n",
              "      <td>NaN</td>\n",
              "      <td>27553.0</td>\n",
              "      <td>26.0</td>\n",
              "      <td>299.0</td>\n",
              "      <td>1</td>\n",
              "    </tr>\n",
              "    <tr>\n",
              "      <th>53451</th>\n",
              "      <td>Pria</td>\n",
              "      <td>46.0</td>\n",
              "      <td>1.0</td>\n",
              "      <td>41.0</td>\n",
              "      <td>0.0</td>\n",
              "      <td>1-2 Tahun</td>\n",
              "      <td>Pernah</td>\n",
              "      <td>33334.0</td>\n",
              "      <td>124.0</td>\n",
              "      <td>299.0</td>\n",
              "      <td>0</td>\n",
              "    </tr>\n",
              "    <tr>\n",
              "      <th>272590</th>\n",
              "      <td>Wanita</td>\n",
              "      <td>21.0</td>\n",
              "      <td>1.0</td>\n",
              "      <td>39.0</td>\n",
              "      <td>NaN</td>\n",
              "      <td>&lt; 1 Tahun</td>\n",
              "      <td>Pernah</td>\n",
              "      <td>38499.0</td>\n",
              "      <td>152.0</td>\n",
              "      <td>299.0</td>\n",
              "      <td>0</td>\n",
              "    </tr>\n",
              "    <tr>\n",
              "      <th>71453</th>\n",
              "      <td>Pria</td>\n",
              "      <td>32.0</td>\n",
              "      <td>1.0</td>\n",
              "      <td>28.0</td>\n",
              "      <td>1.0</td>\n",
              "      <td>NaN</td>\n",
              "      <td>Tidak</td>\n",
              "      <td>72115.0</td>\n",
              "      <td>152.0</td>\n",
              "      <td>299.0</td>\n",
              "      <td>0</td>\n",
              "    </tr>\n",
              "    <tr>\n",
              "      <th>247844</th>\n",
              "      <td>Wanita</td>\n",
              "      <td>25.0</td>\n",
              "      <td>1.0</td>\n",
              "      <td>29.0</td>\n",
              "      <td>1.0</td>\n",
              "      <td>&lt; 1 Tahun</td>\n",
              "      <td>Tidak</td>\n",
              "      <td>32733.0</td>\n",
              "      <td>152.0</td>\n",
              "      <td>299.0</td>\n",
              "      <td>0</td>\n",
              "    </tr>\n",
              "  </tbody>\n",
              "</table>\n",
              "</div>"
            ],
            "text/plain": [
              "       Jenis_Kelamin  Umur  SIM  ...  Kanal_Penjualan  Lama_Berlangganan Tertarik\n",
              "249862        Wanita  25.0  1.0  ...              NaN              299.0        0\n",
              "139005        Wanita  29.0  1.0  ...            160.0              299.0        0\n",
              "172191          Pria  22.0  1.0  ...            160.0              299.0        0\n",
              "220637          Pria  26.0  1.0  ...            152.0              299.0        0\n",
              "162824          Pria  25.0  1.0  ...            160.0              299.0        0\n",
              "123492          Pria  56.0  1.0  ...             26.0              299.0        1\n",
              "53451           Pria  46.0  1.0  ...            124.0              299.0        0\n",
              "272590        Wanita  21.0  1.0  ...            152.0              299.0        0\n",
              "71453           Pria  32.0  1.0  ...            152.0              299.0        0\n",
              "247844        Wanita  25.0  1.0  ...            152.0              299.0        0\n",
              "\n",
              "[10 rows x 11 columns]"
            ]
          },
          "metadata": {},
          "execution_count": 16
        }
      ]
    },
    {
      "cell_type": "code",
      "metadata": {
        "colab": {
          "base_uri": "https://localhost:8080/",
          "height": 617
        },
        "id": "Ke11UItn_xFy",
        "outputId": "8bcd0d49-3718-4fd3-db50-6c83cb0264bf"
      },
      "source": [
        "fig, ax = plt.subplots(figsize=(10, 8))\n",
        "\n",
        "mask = np.triu(np.ones_like(df.corr(), dtype=np.bool))\n",
        "\n",
        "heatmap = sns.heatmap(df.corr(), mask=mask, vmin=-1, vmax=1, annot=True)\n",
        "\n",
        "plt.suptitle(\"Correlation Plot\", ha='left', x=0.155, y=1.04, fontsize=18, fontweight='bold')\n",
        "plt.title(\"Korelasi antara beberapa fitur\", loc='left', fontsize=12)  \n",
        "plt.tight_layout()\n",
        "plt.show()"
      ],
      "execution_count": 17,
      "outputs": [
        {
          "output_type": "display_data",
          "data": {
            "image/png": "[encoded data removed]",
            "text/plain": [
              "<Figure size 720x576 with 2 Axes>"
            ]
          },
          "metadata": {}
        }
      ]
    },
    {
      "cell_type": "markdown",
      "metadata": {
        "id": "rrPvd4hRL2MI"
      },
      "source": [
        "[reference](https://seaborn.pydata.org/tutorial.html) for seaborn"
      ]
    },
    {
      "cell_type": "markdown",
      "metadata": {
        "id": "Dz6f9DOOzqXg"
      },
      "source": [
        "## **Preprocessing data**\n",
        "\n",
        "---\n",
        "\n"
      ]
    },
    {
      "cell_type": "markdown",
      "metadata": {
        "id": "MoAWPOEf0YCF"
      },
      "source": [
        "Jadi setelah kita memahami kondisi data yang kita miliki, kita dapat mengetahui hal apa saja yang kita harus lakukan agar data yang kita miliki siap untuk di masukkan kedalam model machine learning, beberapa hal yang biasanya dapat dilakukan ialah:\n",
        "\n",
        "1. Membuang nilai kosong\n",
        "2. Membuang nilai duplikat\n",
        "3. Melakukan imputasi nilai\n",
        "4. Standarisasi satuan data\n",
        "5. enggabungkan beberapa data menjadi satu\n",
        "6. feature engineering\n",
        "7. transformasi data, dsb."
      ]
    },
    {
      "cell_type": "markdown",
      "metadata": {
        "id": "2a2W-lH0gX4L"
      },
      "source": [
        "jika terdapat feature date, kamu dapat memperoleh data bulan dan tahun dari feature date dengan\n",
        "\n",
        "\n",
        "```python\n",
        "df['date']=pd.to_datetime(df['date'])\n",
        "df['month']=df['date'].apply(lambda date:date.month)\n",
        "df['year']=df['date'].apply(lambda date:date.year)\n",
        "df.head()\n",
        "```\n",
        "\n"
      ]
    },
    {
      "cell_type": "markdown",
      "metadata": {
        "id": "4SNjSHHXf3sk"
      },
      "source": [
        "### Pengecekan nilai kosong pada **dataset** \n",
        "\n",
        "---\n",
        "\n"
      ]
    },
    {
      "cell_type": "markdown",
      "metadata": {
        "id": "ARD2WtQ5Kjsi"
      },
      "source": [
        "***df.isna() berfungsi sebagai alias untuk melakukan pengecekan terhadap nilai kosong dengan boolean.***\n",
        "\n",
        "[referensi isna()](https://pandas.pydata.org/pandas-docs/stable/reference/api/pandas.DataFrame.isna.html)\n",
        "\n",
        "[isna() vs isnull()](https://www.stackvidhya.com/pandas-isna-vs-isnull/)\n",
        "\n",
        "[kalo isnan() punya numpy gimana ?](https://numpy.org/doc/stable/reference/generated/numpy.isnan.html)"
      ]
    },
    {
      "cell_type": "code",
      "metadata": {
        "id": "m8FbLYzFdGOU",
        "colab": {
          "base_uri": "https://localhost:8080/"
        },
        "outputId": "2fdaee01-2694-4d90-ba98-9d59041a09af"
      },
      "source": [
        "df.isna().sum()"
      ],
      "execution_count": 18,
      "outputs": [
        {
          "output_type": "execute_result",
          "data": {
            "text/plain": [
              "Jenis_Kelamin        14440\n",
              "Umur                 14214\n",
              "SIM                  14404\n",
              "Kode_Daerah          14306\n",
              "Sudah_Asuransi       14229\n",
              "Umur_Kendaraan       14275\n",
              "Kendaraan_Rusak      14188\n",
              "Premi                14569\n",
              "Kanal_Penjualan      14299\n",
              "Lama_Berlangganan    13992\n",
              "Tertarik                 0\n",
              "dtype: int64"
            ]
          },
          "metadata": {},
          "execution_count": 18
        }
      ]
    },
    {
      "cell_type": "code",
      "metadata": {
        "colab": {
          "base_uri": "https://localhost:8080/"
        },
        "id": "sBx9eNttzeTC",
        "outputId": "f5f73994-8d7c-4f8d-dbee-032e38aef7ce"
      },
      "source": [
        "df.isnull().sum()"
      ],
      "execution_count": 19,
      "outputs": [
        {
          "output_type": "execute_result",
          "data": {
            "text/plain": [
              "Jenis_Kelamin        14440\n",
              "Umur                 14214\n",
              "SIM                  14404\n",
              "Kode_Daerah          14306\n",
              "Sudah_Asuransi       14229\n",
              "Umur_Kendaraan       14275\n",
              "Kendaraan_Rusak      14188\n",
              "Premi                14569\n",
              "Kanal_Penjualan      14299\n",
              "Lama_Berlangganan    13992\n",
              "Tertarik                 0\n",
              "dtype: int64"
            ]
          },
          "metadata": {},
          "execution_count": 19
        }
      ]
    },
    {
      "cell_type": "markdown",
      "metadata": {
        "id": "robqict45KGB"
      },
      "source": [
        "drop data yang yang kosong (not reccomended)<br> \n",
        "alternatif [fillna()](https://pandas.pydata.org/docs/reference/api/pandas.DataFrame.fillna.html)"
      ]
    },
    {
      "cell_type": "code",
      "metadata": {
        "colab": {
          "base_uri": "https://localhost:8080/"
        },
        "id": "JewWvBP51Z1B",
        "outputId": "aaa32a75-55db-4862-a6a2-ca122ef61633"
      },
      "source": [
        "df = df.dropna(how=\"any\")\n",
        "len(df)"
      ],
      "execution_count": 20,
      "outputs": [
        {
          "output_type": "execute_result",
          "data": {
            "text/plain": [
              "171068"
            ]
          },
          "metadata": {},
          "execution_count": 20
        }
      ]
    },
    {
      "cell_type": "markdown",
      "metadata": {
        "id": "Nu-37w0vQAaW"
      },
      "source": [
        "### **Handling Outliers/Pencilan dengan metode IQR**\n",
        "\n",
        "---\n",
        "\n"
      ]
    },
    {
      "cell_type": "markdown",
      "metadata": {
        "id": "yZRROdwfRI-R"
      },
      "source": [
        "***Interquartile Range*** (IQR)\n",
        "\n",
        "\n",
        "*   [Materi untuk belajar Statistika Dasar](https://medium.com/@jrendz/statistika-dasar-1aea1acc341e)\n",
        "\n"
      ]
    },
    {
      "cell_type": "markdown",
      "metadata": {
        "id": "WvmJ_DxBSAyG"
      },
      "source": [
        "Dalam statistika, jangkauan interkuartil (IQR) adalah selisih antara persentil ke 75% (kuartil atas) dan persentil ke 25% (kuartil bawah).\n",
        "\n",
        "Mari kita cek statistika deskriptif yang dimiliki oleh dataset kita terlebih dahulu!"
      ]
    },
    {
      "cell_type": "code",
      "metadata": {
        "id": "RopqD_vASUon",
        "colab": {
          "base_uri": "https://localhost:8080/",
          "height": 300
        },
        "outputId": "172437c2-17c3-4b63-d7ee-4f0cc038b4e0"
      },
      "source": [
        "df.describe().T"
      ],
      "execution_count": 21,
      "outputs": [
        {
          "output_type": "execute_result",
          "data": {
            "text/html": [
              "<div>\n",
              "<style scoped>\n",
              "    .dataframe tbody tr th:only-of-type {\n",
              "        vertical-align: middle;\n",
              "    }\n",
              "\n",
              "    .dataframe tbody tr th {\n",
              "        vertical-align: top;\n",
              "    }\n",
              "\n",
              "    .dataframe thead th {\n",
              "        text-align: right;\n",
              "    }\n",
              "</style>\n",
              "<table border=\"1\" class=\"dataframe\">\n",
              "  <thead>\n",
              "    <tr style=\"text-align: right;\">\n",
              "      <th></th>\n",
              "      <th>count</th>\n",
              "      <th>mean</th>\n",
              "      <th>std</th>\n",
              "      <th>min</th>\n",
              "      <th>25%</th>\n",
              "      <th>50%</th>\n",
              "      <th>75%</th>\n",
              "      <th>max</th>\n",
              "    </tr>\n",
              "  </thead>\n",
              "  <tbody>\n",
              "    <tr>\n",
              "      <th>Umur</th>\n",
              "      <td>171068.0</td>\n",
              "      <td>38.818137</td>\n",
              "      <td>15.531695</td>\n",
              "      <td>20.0</td>\n",
              "      <td>25.00</td>\n",
              "      <td>36.0</td>\n",
              "      <td>49.00</td>\n",
              "      <td>85.0</td>\n",
              "    </tr>\n",
              "    <tr>\n",
              "      <th>SIM</th>\n",
              "      <td>171068.0</td>\n",
              "      <td>0.997931</td>\n",
              "      <td>0.045443</td>\n",
              "      <td>0.0</td>\n",
              "      <td>1.00</td>\n",
              "      <td>1.0</td>\n",
              "      <td>1.00</td>\n",
              "      <td>1.0</td>\n",
              "    </tr>\n",
              "    <tr>\n",
              "      <th>Kode_Daerah</th>\n",
              "      <td>171068.0</td>\n",
              "      <td>26.411334</td>\n",
              "      <td>13.262377</td>\n",
              "      <td>0.0</td>\n",
              "      <td>15.00</td>\n",
              "      <td>28.0</td>\n",
              "      <td>35.00</td>\n",
              "      <td>52.0</td>\n",
              "    </tr>\n",
              "    <tr>\n",
              "      <th>Sudah_Asuransi</th>\n",
              "      <td>171068.0</td>\n",
              "      <td>0.459794</td>\n",
              "      <td>0.498382</td>\n",
              "      <td>0.0</td>\n",
              "      <td>0.00</td>\n",
              "      <td>0.0</td>\n",
              "      <td>1.00</td>\n",
              "      <td>1.0</td>\n",
              "    </tr>\n",
              "    <tr>\n",
              "      <th>Premi</th>\n",
              "      <td>171068.0</td>\n",
              "      <td>30506.747282</td>\n",
              "      <td>17090.409733</td>\n",
              "      <td>2630.0</td>\n",
              "      <td>24369.75</td>\n",
              "      <td>31603.0</td>\n",
              "      <td>39323.25</td>\n",
              "      <td>540165.0</td>\n",
              "    </tr>\n",
              "    <tr>\n",
              "      <th>Kanal_Penjualan</th>\n",
              "      <td>171068.0</td>\n",
              "      <td>112.260206</td>\n",
              "      <td>54.106712</td>\n",
              "      <td>1.0</td>\n",
              "      <td>29.00</td>\n",
              "      <td>140.0</td>\n",
              "      <td>152.00</td>\n",
              "      <td>163.0</td>\n",
              "    </tr>\n",
              "    <tr>\n",
              "      <th>Lama_Berlangganan</th>\n",
              "      <td>171068.0</td>\n",
              "      <td>154.253063</td>\n",
              "      <td>83.862579</td>\n",
              "      <td>10.0</td>\n",
              "      <td>81.00</td>\n",
              "      <td>154.0</td>\n",
              "      <td>227.00</td>\n",
              "      <td>299.0</td>\n",
              "    </tr>\n",
              "    <tr>\n",
              "      <th>Tertarik</th>\n",
              "      <td>171068.0</td>\n",
              "      <td>0.121577</td>\n",
              "      <td>0.326798</td>\n",
              "      <td>0.0</td>\n",
              "      <td>0.00</td>\n",
              "      <td>0.0</td>\n",
              "      <td>0.00</td>\n",
              "      <td>1.0</td>\n",
              "    </tr>\n",
              "  </tbody>\n",
              "</table>\n",
              "</div>"
            ],
            "text/plain": [
              "                      count          mean  ...       75%       max\n",
              "Umur               171068.0     38.818137  ...     49.00      85.0\n",
              "SIM                171068.0      0.997931  ...      1.00       1.0\n",
              "Kode_Daerah        171068.0     26.411334  ...     35.00      52.0\n",
              "Sudah_Asuransi     171068.0      0.459794  ...      1.00       1.0\n",
              "Premi              171068.0  30506.747282  ...  39323.25  540165.0\n",
              "Kanal_Penjualan    171068.0    112.260206  ...    152.00     163.0\n",
              "Lama_Berlangganan  171068.0    154.253063  ...    227.00     299.0\n",
              "Tertarik           171068.0      0.121577  ...      0.00       1.0\n",
              "\n",
              "[8 rows x 8 columns]"
            ]
          },
          "metadata": {},
          "execution_count": 21
        }
      ]
    },
    {
      "cell_type": "markdown",
      "metadata": {
        "id": "qv4ShRmCqBO8"
      },
      "source": [
        "![0_JhyySCtPWrPODZbG.png](data:image/png;base64,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)"
      ]
    },
    {
      "cell_type": "code",
      "metadata": {
        "colab": {
          "base_uri": "https://localhost:8080/",
          "height": 345
        },
        "id": "VPksrmeDBDHh",
        "outputId": "874252e4-eb73-4698-d442-24340d21563b"
      },
      "source": [
        "sns.set()\n",
        "plt.figure(figsize=(10,5))\n",
        "sns.boxplot(data=df, y=df.Premi)\n",
        "plt.xlabel('Premi')\n",
        "plt.title('Sebaran data Premi', fontweight='bold')\n",
        "plt.show()"
      ],
      "execution_count": 22,
      "outputs": [
        {
          "output_type": "display_data",
          "data": {
            "image/png": "[encoded data removed]",
            "text/plain": [
              "<Figure size 720x360 with 1 Axes>"
            ]
          },
          "metadata": {}
        }
      ]
    },
    {
      "cell_type": "markdown",
      "metadata": {
        "id": "8lNDRWwOgnFm"
      },
      "source": [
        "Melakukan pencarian Q1, Q3 & IQR menggunakan bantuan fungsi .quantile()"
      ]
    },
    {
      "cell_type": "code",
      "metadata": {
        "id": "scReuhFqHOua",
        "colab": {
          "base_uri": "https://localhost:8080/"
        },
        "outputId": "d157e1ad-b06f-4074-c643-765dba817180"
      },
      "source": [
        "Q1 = df.Premi.quantile(0.25)\n",
        "Q3 = df.Premi.quantile(0.75)\n",
        "IQR = Q3 - Q1\n",
        "print(f'Q1: {Q1}')\n",
        "print(f'Q3: {Q3}')\n",
        "print(f'IQR: {IQR}')"
      ],
      "execution_count": 23,
      "outputs": [
        {
          "output_type": "stream",
          "name": "stdout",
          "text": [
            "Q1: 24369.75\n",
            "Q3: 39323.25\n",
            "IQR: 14953.5\n"
          ]
        }
      ]
    },
    {
      "cell_type": "markdown",
      "metadata": {
        "id": "R98-yBmRgrHC"
      },
      "source": [
        "Pencarian batas atas dan batas bawah data"
      ]
    },
    {
      "cell_type": "code",
      "metadata": {
        "id": "m6V_jR76H7dK",
        "colab": {
          "base_uri": "https://localhost:8080/"
        },
        "outputId": "309a82e3-ff9e-434c-d3c0-ed913dace753"
      },
      "source": [
        "LB = Q1 - (IQR * 1.5)\n",
        "UB = Q3 + (IQR * 1.5)\n",
        "print(f'batas atas \\t: {UB}')\n",
        "print(f'batas bawah \\t: {LB}')"
      ],
      "execution_count": 24,
      "outputs": [
        {
          "output_type": "stream",
          "name": "stdout",
          "text": [
            "batas atas \t: 61753.5\n",
            "batas bawah \t: 1939.5\n"
          ]
        }
      ]
    },
    {
      "cell_type": "markdown",
      "metadata": {
        "id": "Zb3XSFPigw_T"
      },
      "source": [
        "Melihat data outlier yang kita miliki"
      ]
    },
    {
      "cell_type": "code",
      "metadata": {
        "id": "ODVc6_imIxzR",
        "colab": {
          "base_uri": "https://localhost:8080/",
          "height": 423
        },
        "outputId": "423231c1-c76d-4666-9362-0672b0a9f3ec"
      },
      "source": [
        "df.loc[(df['Premi']<LB)|(df['Premi']>UB)]"
      ],
      "execution_count": 25,
      "outputs": [
        {
          "output_type": "execute_result",
          "data": {
            "text/html": [
              "<div>\n",
              "<style scoped>\n",
              "    .dataframe tbody tr th:only-of-type {\n",
              "        vertical-align: middle;\n",
              "    }\n",
              "\n",
              "    .dataframe tbody tr th {\n",
              "        vertical-align: top;\n",
              "    }\n",
              "\n",
              "    .dataframe thead th {\n",
              "        text-align: right;\n",
              "    }\n",
              "</style>\n",
              "<table border=\"1\" class=\"dataframe\">\n",
              "  <thead>\n",
              "    <tr style=\"text-align: right;\">\n",
              "      <th></th>\n",
              "      <th>Jenis_Kelamin</th>\n",
              "      <th>Umur</th>\n",
              "      <th>SIM</th>\n",
              "      <th>Kode_Daerah</th>\n",
              "      <th>Sudah_Asuransi</th>\n",
              "      <th>Umur_Kendaraan</th>\n",
              "      <th>Kendaraan_Rusak</th>\n",
              "      <th>Premi</th>\n",
              "      <th>Kanal_Penjualan</th>\n",
              "      <th>Lama_Berlangganan</th>\n",
              "      <th>Tertarik</th>\n",
              "    </tr>\n",
              "  </thead>\n",
              "  <tbody>\n",
              "    <tr>\n",
              "      <th>114</th>\n",
              "      <td>Wanita</td>\n",
              "      <td>25.0</td>\n",
              "      <td>1.0</td>\n",
              "      <td>41.0</td>\n",
              "      <td>1.0</td>\n",
              "      <td>&lt; 1 Tahun</td>\n",
              "      <td>Tidak</td>\n",
              "      <td>69212.0</td>\n",
              "      <td>152.0</td>\n",
              "      <td>115.0</td>\n",
              "      <td>0</td>\n",
              "    </tr>\n",
              "    <tr>\n",
              "      <th>173</th>\n",
              "      <td>Pria</td>\n",
              "      <td>24.0</td>\n",
              "      <td>1.0</td>\n",
              "      <td>28.0</td>\n",
              "      <td>1.0</td>\n",
              "      <td>&lt; 1 Tahun</td>\n",
              "      <td>Tidak</td>\n",
              "      <td>63672.0</td>\n",
              "      <td>152.0</td>\n",
              "      <td>98.0</td>\n",
              "      <td>0</td>\n",
              "    </tr>\n",
              "    <tr>\n",
              "      <th>266</th>\n",
              "      <td>Wanita</td>\n",
              "      <td>58.0</td>\n",
              "      <td>1.0</td>\n",
              "      <td>8.0</td>\n",
              "      <td>0.0</td>\n",
              "      <td>1-2 Tahun</td>\n",
              "      <td>Pernah</td>\n",
              "      <td>72734.0</td>\n",
              "      <td>124.0</td>\n",
              "      <td>61.0</td>\n",
              "      <td>0</td>\n",
              "    </tr>\n",
              "    <tr>\n",
              "      <th>309</th>\n",
              "      <td>Wanita</td>\n",
              "      <td>45.0</td>\n",
              "      <td>1.0</td>\n",
              "      <td>28.0</td>\n",
              "      <td>1.0</td>\n",
              "      <td>1-2 Tahun</td>\n",
              "      <td>Pernah</td>\n",
              "      <td>76693.0</td>\n",
              "      <td>26.0</td>\n",
              "      <td>56.0</td>\n",
              "      <td>0</td>\n",
              "    </tr>\n",
              "    <tr>\n",
              "      <th>631</th>\n",
              "      <td>Pria</td>\n",
              "      <td>65.0</td>\n",
              "      <td>1.0</td>\n",
              "      <td>28.0</td>\n",
              "      <td>0.0</td>\n",
              "      <td>&gt; 2 Tahun</td>\n",
              "      <td>Pernah</td>\n",
              "      <td>62438.0</td>\n",
              "      <td>122.0</td>\n",
              "      <td>253.0</td>\n",
              "      <td>0</td>\n",
              "    </tr>\n",
              "    <tr>\n",
              "      <th>...</th>\n",
              "      <td>...</td>\n",
              "      <td>...</td>\n",
              "      <td>...</td>\n",
              "      <td>...</td>\n",
              "      <td>...</td>\n",
              "      <td>...</td>\n",
              "      <td>...</td>\n",
              "      <td>...</td>\n",
              "      <td>...</td>\n",
              "      <td>...</td>\n",
              "      <td>...</td>\n",
              "    </tr>\n",
              "    <tr>\n",
              "      <th>285610</th>\n",
              "      <td>Wanita</td>\n",
              "      <td>31.0</td>\n",
              "      <td>1.0</td>\n",
              "      <td>28.0</td>\n",
              "      <td>1.0</td>\n",
              "      <td>&lt; 1 Tahun</td>\n",
              "      <td>Tidak</td>\n",
              "      <td>83027.0</td>\n",
              "      <td>152.0</td>\n",
              "      <td>61.0</td>\n",
              "      <td>0</td>\n",
              "    </tr>\n",
              "    <tr>\n",
              "      <th>285684</th>\n",
              "      <td>Wanita</td>\n",
              "      <td>20.0</td>\n",
              "      <td>1.0</td>\n",
              "      <td>36.0</td>\n",
              "      <td>0.0</td>\n",
              "      <td>&lt; 1 Tahun</td>\n",
              "      <td>Pernah</td>\n",
              "      <td>99950.0</td>\n",
              "      <td>160.0</td>\n",
              "      <td>14.0</td>\n",
              "      <td>0</td>\n",
              "    </tr>\n",
              "    <tr>\n",
              "      <th>285765</th>\n",
              "      <td>Wanita</td>\n",
              "      <td>78.0</td>\n",
              "      <td>1.0</td>\n",
              "      <td>8.0</td>\n",
              "      <td>0.0</td>\n",
              "      <td>1-2 Tahun</td>\n",
              "      <td>Pernah</td>\n",
              "      <td>77615.0</td>\n",
              "      <td>124.0</td>\n",
              "      <td>50.0</td>\n",
              "      <td>0</td>\n",
              "    </tr>\n",
              "    <tr>\n",
              "      <th>285776</th>\n",
              "      <td>Pria</td>\n",
              "      <td>22.0</td>\n",
              "      <td>1.0</td>\n",
              "      <td>46.0</td>\n",
              "      <td>0.0</td>\n",
              "      <td>&lt; 1 Tahun</td>\n",
              "      <td>Pernah</td>\n",
              "      <td>72125.0</td>\n",
              "      <td>152.0</td>\n",
              "      <td>154.0</td>\n",
              "      <td>0</td>\n",
              "    </tr>\n",
              "    <tr>\n",
              "      <th>285788</th>\n",
              "      <td>Pria</td>\n",
              "      <td>77.0</td>\n",
              "      <td>1.0</td>\n",
              "      <td>28.0</td>\n",
              "      <td>1.0</td>\n",
              "      <td>1-2 Tahun</td>\n",
              "      <td>Tidak</td>\n",
              "      <td>69856.0</td>\n",
              "      <td>26.0</td>\n",
              "      <td>125.0</td>\n",
              "      <td>0</td>\n",
              "    </tr>\n",
              "  </tbody>\n",
              "</table>\n",
              "<p>4672 rows × 11 columns</p>\n",
              "</div>"
            ],
            "text/plain": [
              "       Jenis_Kelamin  Umur  SIM  ...  Kanal_Penjualan  Lama_Berlangganan Tertarik\n",
              "114           Wanita  25.0  1.0  ...            152.0              115.0        0\n",
              "173             Pria  24.0  1.0  ...            152.0               98.0        0\n",
              "266           Wanita  58.0  1.0  ...            124.0               61.0        0\n",
              "309           Wanita  45.0  1.0  ...             26.0               56.0        0\n",
              "631             Pria  65.0  1.0  ...            122.0              253.0        0\n",
              "...              ...   ...  ...  ...              ...                ...      ...\n",
              "285610        Wanita  31.0  1.0  ...            152.0               61.0        0\n",
              "285684        Wanita  20.0  1.0  ...            160.0               14.0        0\n",
              "285765        Wanita  78.0  1.0  ...            124.0               50.0        0\n",
              "285776          Pria  22.0  1.0  ...            152.0              154.0        0\n",
              "285788          Pria  77.0  1.0  ...             26.0              125.0        0\n",
              "\n",
              "[4672 rows x 11 columns]"
            ]
          },
          "metadata": {},
          "execution_count": 25
        }
      ]
    },
    {
      "cell_type": "markdown",
      "metadata": {
        "id": "pwLQq-jug1vn"
      },
      "source": [
        "membuat data iatas upper bound menjadi upper bound dan dibawah lower bound menjadi lower bound"
      ]
    },
    {
      "cell_type": "code",
      "metadata": {
        "id": "_ce9IwXsM48n"
      },
      "source": [
        "df.loc[df['Premi'] > UB, \"Premi\"] = UB\n",
        "df.loc[df['Premi'] < LB, \"Premi\"] = LB"
      ],
      "execution_count": 26,
      "outputs": []
    },
    {
      "cell_type": "markdown",
      "metadata": {
        "id": "wbd7I_E-g-Rc"
      },
      "source": [
        "Melakukan visualisasi fitur premi"
      ]
    },
    {
      "cell_type": "code",
      "metadata": {
        "colab": {
          "base_uri": "https://localhost:8080/",
          "height": 345
        },
        "id": "_RxcF-KTBzli",
        "outputId": "1a90eb73-362f-46da-9c49-21e1833de54b"
      },
      "source": [
        "sns.set()\n",
        "plt.figure(figsize=(10,5))\n",
        "sns.boxplot(data=df, y=df.Premi)\n",
        "plt.xlabel('Premi')\n",
        "plt.title('Sebaran data Premi', fontweight='bold')\n",
        "plt.show()"
      ],
      "execution_count": 27,
      "outputs": [
        {
          "output_type": "display_data",
          "data": {
            "image/png": "[encoded data removed]",
            "text/plain": [
              "<Figure size 720x360 with 1 Axes>"
            ]
          },
          "metadata": {}
        }
      ]
    },
    {
      "cell_type": "markdown",
      "metadata": {
        "id": "xmUKOebBS6LH"
      },
      "source": [
        "Melakukan pembersihan data dari data outlier merupakan salah satu langkah yang sangat krusial dalam melakukan persiapan data, apabila kita tidak melakukan langkah ini, model yang kita hasilkan akan memiliki performa yang bisa dikatakan tidak maksimal dibandingkan dengan model machine learning yang datanya sudah dibersihkan dari outlier!"
      ]
    },
    {
      "cell_type": "markdown",
      "metadata": {
        "id": "9v-cQx5hDPBy"
      },
      "source": [
        "### Encoding and Normalization\n",
        "---"
      ]
    },
    {
      "cell_type": "markdown",
      "metadata": {
        "id": "_t9l5eRxDazZ"
      },
      "source": [
        "OneHotEncoding untuk fitur kategorikal non ordinal"
      ]
    },
    {
      "cell_type": "code",
      "metadata": {
        "id": "TiQ8RyvZSOnH"
      },
      "source": [
        "jk_dum = pd.get_dummies(df.Jenis_Kelamin, prefix=\"jk\")\n",
        "df = pd.concat([df, jk_dum], axis=1)\n",
        "\n",
        "sim_dum = pd.get_dummies(df.SIM, prefix=\"sim\")\n",
        "df = pd.concat([df, sim_dum], axis=1)\n",
        "\n",
        "rusak_dum = pd.get_dummies(df.Kendaraan_Rusak, prefix=\"rusak\")\n",
        "df = pd.concat([df, rusak_dum], axis=1)\n",
        "\n",
        "asuransi_dum = pd.get_dummies(df.Sudah_Asuransi, prefix=\"asuransi\")\n",
        "df = pd.concat([df, asuransi_dum], axis=1)\n",
        "\n",
        "kd_dum = pd.get_dummies(df.Kode_Daerah, prefix=\"kd\")\n",
        "df = pd.concat([df, kd_dum], axis=1)\n",
        "\n",
        "kp_dum = pd.get_dummies(df.Kanal_Penjualan, prefix=\"kp\")\n",
        "df = pd.concat([df, kp_dum], axis=1)\n",
        "\n",
        "df.drop(['Jenis_Kelamin', 'SIM', 'Kendaraan_Rusak', 'Sudah_Asuransi', 'Kode_Daerah', 'Kanal_Penjualan', 'Tertarik'], axis=1, inplace=True)"
      ],
      "execution_count": 28,
      "outputs": []
    },
    {
      "cell_type": "markdown",
      "metadata": {
        "id": "rJWK9UpSDoI6"
      },
      "source": [
        "scaling/normalization untuk data kontinu"
      ]
    },
    {
      "cell_type": "code",
      "metadata": {
        "id": "AOtT4HmPDuvi"
      },
      "source": [
        "def minMaxScaling(df) :\n",
        "    return (df - df.min()) / (df.max() - df.min())\n",
        "    \n",
        "df['Umur'] = minMaxScaling(df['Umur'])\n",
        "df['Premi'] = minMaxScaling(df['Premi'])\n",
        "df['Lama_Berlangganan'] = minMaxScaling(df['Lama_Berlangganan'])"
      ],
      "execution_count": 29,
      "outputs": []
    },
    {
      "cell_type": "markdown",
      "metadata": {
        "id": "UjHSWTcVDxrq"
      },
      "source": [
        "encoding untuk kategorikal"
      ]
    },
    {
      "cell_type": "code",
      "metadata": {
        "id": "rBGcJT9VD7YG"
      },
      "source": [
        "uk_map = {\n",
        "    \"< 1 Tahun\" : 1, \n",
        "    \"1-2 Tahun\" : 2, \n",
        "    \"> 2 Tahun\" : 3 \n",
        "}\n",
        "\n",
        "df = df.replace({\"Umur_Kendaraan\" : uk_map})"
      ],
      "execution_count": 30,
      "outputs": []
    },
    {
      "cell_type": "markdown",
      "metadata": {
        "id": "2BXgiAUlGzfa"
      },
      "source": [
        "### export dataset\n",
        "\n",
        "---"
      ]
    },
    {
      "cell_type": "code",
      "metadata": {
        "colab": {
          "base_uri": "https://localhost:8080/",
          "height": 412
        },
        "id": "7AEykoV1EYj5",
        "outputId": "542eea7c-f650-48e1-ae30-8b2baa917c2c"
      },
      "source": [
        "df.sample(10)"
      ],
      "execution_count": 33,
      "outputs": [
        {
          "output_type": "execute_result",
          "data": {
            "text/html": [
              "<div>\n",
              "<style scoped>\n",
              "    .dataframe tbody tr th:only-of-type {\n",
              "        vertical-align: middle;\n",
              "    }\n",
              "\n",
              "    .dataframe tbody tr th {\n",
              "        vertical-align: top;\n",
              "    }\n",
              "\n",
              "    .dataframe thead th {\n",
              "        text-align: right;\n",
              "    }\n",
              "</style>\n",
              "<table border=\"1\" class=\"dataframe\">\n",
              "  <thead>\n",
              "    <tr style=\"text-align: right;\">\n",
              "      <th></th>\n",
              "      <th>Umur</th>\n",
              "      <th>Umur_Kendaraan</th>\n",
              "      <th>Premi</th>\n",
              "      <th>Lama_Berlangganan</th>\n",
              "      <th>jk_Pria</th>\n",
              "      <th>jk_Wanita</th>\n",
              "      <th>sim_0.0</th>\n",
              "      <th>sim_1.0</th>\n",
              "      <th>rusak_Pernah</th>\n",
              "      <th>rusak_Tidak</th>\n",
              "      <th>asuransi_0.0</th>\n",
              "      <th>asuransi_1.0</th>\n",
              "      <th>kd_0.0</th>\n",
              "      <th>kd_1.0</th>\n",
              "      <th>kd_2.0</th>\n",
              "      <th>kd_3.0</th>\n",
              "      <th>kd_4.0</th>\n",
              "      <th>kd_5.0</th>\n",
              "      <th>kd_6.0</th>\n",
              "      <th>kd_7.0</th>\n",
              "      <th>kd_8.0</th>\n",
              "      <th>kd_9.0</th>\n",
              "      <th>kd_10.0</th>\n",
              "      <th>kd_11.0</th>\n",
              "      <th>kd_12.0</th>\n",
              "      <th>kd_13.0</th>\n",
              "      <th>kd_14.0</th>\n",
              "      <th>kd_15.0</th>\n",
              "      <th>kd_16.0</th>\n",
              "      <th>kd_17.0</th>\n",
              "      <th>kd_18.0</th>\n",
              "      <th>kd_19.0</th>\n",
              "      <th>kd_20.0</th>\n",
              "      <th>kd_21.0</th>\n",
              "      <th>kd_22.0</th>\n",
              "      <th>kd_23.0</th>\n",
              "      <th>kd_24.0</th>\n",
              "      <th>kd_25.0</th>\n",
              "      <th>kd_26.0</th>\n",
              "      <th>kd_27.0</th>\n",
              "      <th>...</th>\n",
              "      <th>kp_117.0</th>\n",
              "      <th>kp_118.0</th>\n",
              "      <th>kp_119.0</th>\n",
              "      <th>kp_120.0</th>\n",
              "      <th>kp_121.0</th>\n",
              "      <th>kp_122.0</th>\n",
              "      <th>kp_123.0</th>\n",
              "      <th>kp_124.0</th>\n",
              "      <th>kp_125.0</th>\n",
              "      <th>kp_126.0</th>\n",
              "      <th>kp_127.0</th>\n",
              "      <th>kp_128.0</th>\n",
              "      <th>kp_129.0</th>\n",
              "      <th>kp_130.0</th>\n",
              "      <th>kp_131.0</th>\n",
              "      <th>kp_132.0</th>\n",
              "      <th>kp_133.0</th>\n",
              "      <th>kp_134.0</th>\n",
              "      <th>kp_135.0</th>\n",
              "      <th>kp_136.0</th>\n",
              "      <th>kp_137.0</th>\n",
              "      <th>kp_138.0</th>\n",
              "      <th>kp_139.0</th>\n",
              "      <th>kp_140.0</th>\n",
              "      <th>kp_145.0</th>\n",
              "      <th>kp_146.0</th>\n",
              "      <th>kp_147.0</th>\n",
              "      <th>kp_148.0</th>\n",
              "      <th>kp_150.0</th>\n",
              "      <th>kp_151.0</th>\n",
              "      <th>kp_152.0</th>\n",
              "      <th>kp_153.0</th>\n",
              "      <th>kp_154.0</th>\n",
              "      <th>kp_155.0</th>\n",
              "      <th>kp_156.0</th>\n",
              "      <th>kp_157.0</th>\n",
              "      <th>kp_158.0</th>\n",
              "      <th>kp_159.0</th>\n",
              "      <th>kp_160.0</th>\n",
              "      <th>kp_163.0</th>\n",
              "    </tr>\n",
              "  </thead>\n",
              "  <tbody>\n",
              "    <tr>\n",
              "      <th>120270</th>\n",
              "      <td>0.030769</td>\n",
              "      <td>1</td>\n",
              "      <td>0.437119</td>\n",
              "      <td>0.840830</td>\n",
              "      <td>0</td>\n",
              "      <td>1</td>\n",
              "      <td>0</td>\n",
              "      <td>1</td>\n",
              "      <td>1</td>\n",
              "      <td>0</td>\n",
              "      <td>1</td>\n",
              "      <td>0</td>\n",
              "      <td>0</td>\n",
              "      <td>0</td>\n",
              "      <td>0</td>\n",
              "      <td>0</td>\n",
              "      <td>0</td>\n",
              "      <td>1</td>\n",
              "      <td>0</td>\n",
              "      <td>0</td>\n",
              "      <td>0</td>\n",
              "      <td>0</td>\n",
              "      <td>0</td>\n",
              "      <td>0</td>\n",
              "      <td>0</td>\n",
              "      <td>0</td>\n",
              "      <td>0</td>\n",
              "      <td>0</td>\n",
              "      <td>0</td>\n",
              "      <td>0</td>\n",
              "      <td>0</td>\n",
              "      <td>0</td>\n",
              "      <td>0</td>\n",
              "      <td>0</td>\n",
              "      <td>0</td>\n",
              "      <td>0</td>\n",
              "      <td>0</td>\n",
              "      <td>0</td>\n",
              "      <td>0</td>\n",
              "      <td>0</td>\n",
              "      <td>...</td>\n",
              "      <td>0</td>\n",
              "      <td>0</td>\n",
              "      <td>0</td>\n",
              "      <td>0</td>\n",
              "      <td>0</td>\n",
              "      <td>0</td>\n",
              "      <td>0</td>\n",
              "      <td>0</td>\n",
              "      <td>0</td>\n",
              "      <td>0</td>\n",
              "      <td>0</td>\n",
              "      <td>0</td>\n",
              "      <td>0</td>\n",
              "      <td>0</td>\n",
              "      <td>0</td>\n",
              "      <td>0</td>\n",
              "      <td>0</td>\n",
              "      <td>0</td>\n",
              "      <td>0</td>\n",
              "      <td>0</td>\n",
              "      <td>0</td>\n",
              "      <td>0</td>\n",
              "      <td>0</td>\n",
              "      <td>0</td>\n",
              "      <td>0</td>\n",
              "      <td>0</td>\n",
              "      <td>0</td>\n",
              "      <td>0</td>\n",
              "      <td>0</td>\n",
              "      <td>0</td>\n",
              "      <td>1</td>\n",
              "      <td>0</td>\n",
              "      <td>0</td>\n",
              "      <td>0</td>\n",
              "      <td>0</td>\n",
              "      <td>0</td>\n",
              "      <td>0</td>\n",
              "      <td>0</td>\n",
              "      <td>0</td>\n",
              "      <td>0</td>\n",
              "    </tr>\n",
              "    <tr>\n",
              "      <th>208715</th>\n",
              "      <td>0.400000</td>\n",
              "      <td>2</td>\n",
              "      <td>0.456367</td>\n",
              "      <td>0.346021</td>\n",
              "      <td>1</td>\n",
              "      <td>0</td>\n",
              "      <td>0</td>\n",
              "      <td>1</td>\n",
              "      <td>1</td>\n",
              "      <td>0</td>\n",
              "      <td>1</td>\n",
              "      <td>0</td>\n",
              "      <td>0</td>\n",
              "      <td>0</td>\n",
              "      <td>0</td>\n",
              "      <td>0</td>\n",
              "      <td>0</td>\n",
              "      <td>0</td>\n",
              "      <td>0</td>\n",
              "      <td>0</td>\n",
              "      <td>0</td>\n",
              "      <td>0</td>\n",
              "      <td>0</td>\n",
              "      <td>0</td>\n",
              "      <td>0</td>\n",
              "      <td>0</td>\n",
              "      <td>0</td>\n",
              "      <td>0</td>\n",
              "      <td>0</td>\n",
              "      <td>0</td>\n",
              "      <td>0</td>\n",
              "      <td>0</td>\n",
              "      <td>0</td>\n",
              "      <td>0</td>\n",
              "      <td>0</td>\n",
              "      <td>0</td>\n",
              "      <td>0</td>\n",
              "      <td>0</td>\n",
              "      <td>0</td>\n",
              "      <td>0</td>\n",
              "      <td>...</td>\n",
              "      <td>0</td>\n",
              "      <td>0</td>\n",
              "      <td>0</td>\n",
              "      <td>0</td>\n",
              "      <td>0</td>\n",
              "      <td>0</td>\n",
              "      <td>0</td>\n",
              "      <td>1</td>\n",
              "      <td>0</td>\n",
              "      <td>0</td>\n",
              "      <td>0</td>\n",
              "      <td>0</td>\n",
              "      <td>0</td>\n",
              "      <td>0</td>\n",
              "      <td>0</td>\n",
              "      <td>0</td>\n",
              "      <td>0</td>\n",
              "      <td>0</td>\n",
              "      <td>0</td>\n",
              "      <td>0</td>\n",
              "      <td>0</td>\n",
              "      <td>0</td>\n",
              "      <td>0</td>\n",
              "      <td>0</td>\n",
              "      <td>0</td>\n",
              "      <td>0</td>\n",
              "      <td>0</td>\n",
              "      <td>0</td>\n",
              "      <td>0</td>\n",
              "      <td>0</td>\n",
              "      <td>0</td>\n",
              "      <td>0</td>\n",
              "      <td>0</td>\n",
              "      <td>0</td>\n",
              "      <td>0</td>\n",
              "      <td>0</td>\n",
              "      <td>0</td>\n",
              "      <td>0</td>\n",
              "      <td>0</td>\n",
              "      <td>0</td>\n",
              "    </tr>\n",
              "    <tr>\n",
              "      <th>275421</th>\n",
              "      <td>0.200000</td>\n",
              "      <td>2</td>\n",
              "      <td>0.533646</td>\n",
              "      <td>0.619377</td>\n",
              "      <td>1</td>\n",
              "      <td>0</td>\n",
              "      <td>0</td>\n",
              "      <td>1</td>\n",
              "      <td>1</td>\n",
              "      <td>0</td>\n",
              "      <td>1</td>\n",
              "      <td>0</td>\n",
              "      <td>0</td>\n",
              "      <td>0</td>\n",
              "      <td>0</td>\n",
              "      <td>0</td>\n",
              "      <td>0</td>\n",
              "      <td>0</td>\n",
              "      <td>0</td>\n",
              "      <td>0</td>\n",
              "      <td>0</td>\n",
              "      <td>0</td>\n",
              "      <td>0</td>\n",
              "      <td>0</td>\n",
              "      <td>0</td>\n",
              "      <td>0</td>\n",
              "      <td>0</td>\n",
              "      <td>0</td>\n",
              "      <td>0</td>\n",
              "      <td>0</td>\n",
              "      <td>0</td>\n",
              "      <td>0</td>\n",
              "      <td>0</td>\n",
              "      <td>0</td>\n",
              "      <td>0</td>\n",
              "      <td>0</td>\n",
              "      <td>0</td>\n",
              "      <td>0</td>\n",
              "      <td>0</td>\n",
              "      <td>0</td>\n",
              "      <td>...</td>\n",
              "      <td>0</td>\n",
              "      <td>0</td>\n",
              "      <td>0</td>\n",
              "      <td>0</td>\n",
              "      <td>0</td>\n",
              "      <td>0</td>\n",
              "      <td>0</td>\n",
              "      <td>1</td>\n",
              "      <td>0</td>\n",
              "      <td>0</td>\n",
              "      <td>0</td>\n",
              "      <td>0</td>\n",
              "      <td>0</td>\n",
              "      <td>0</td>\n",
              "      <td>0</td>\n",
              "      <td>0</td>\n",
              "      <td>0</td>\n",
              "      <td>0</td>\n",
              "      <td>0</td>\n",
              "      <td>0</td>\n",
              "      <td>0</td>\n",
              "      <td>0</td>\n",
              "      <td>0</td>\n",
              "      <td>0</td>\n",
              "      <td>0</td>\n",
              "      <td>0</td>\n",
              "      <td>0</td>\n",
              "      <td>0</td>\n",
              "      <td>0</td>\n",
              "      <td>0</td>\n",
              "      <td>0</td>\n",
              "      <td>0</td>\n",
              "      <td>0</td>\n",
              "      <td>0</td>\n",
              "      <td>0</td>\n",
              "      <td>0</td>\n",
              "      <td>0</td>\n",
              "      <td>0</td>\n",
              "      <td>0</td>\n",
              "      <td>0</td>\n",
              "    </tr>\n",
              "    <tr>\n",
              "      <th>280603</th>\n",
              "      <td>0.753846</td>\n",
              "      <td>2</td>\n",
              "      <td>0.651501</td>\n",
              "      <td>0.975779</td>\n",
              "      <td>0</td>\n",
              "      <td>1</td>\n",
              "      <td>0</td>\n",
              "      <td>1</td>\n",
              "      <td>0</td>\n",
              "      <td>1</td>\n",
              "      <td>0</td>\n",
              "      <td>1</td>\n",
              "      <td>0</td>\n",
              "      <td>0</td>\n",
              "      <td>0</td>\n",
              "      <td>0</td>\n",
              "      <td>0</td>\n",
              "      <td>0</td>\n",
              "      <td>0</td>\n",
              "      <td>0</td>\n",
              "      <td>0</td>\n",
              "      <td>0</td>\n",
              "      <td>0</td>\n",
              "      <td>0</td>\n",
              "      <td>0</td>\n",
              "      <td>0</td>\n",
              "      <td>0</td>\n",
              "      <td>0</td>\n",
              "      <td>0</td>\n",
              "      <td>0</td>\n",
              "      <td>0</td>\n",
              "      <td>0</td>\n",
              "      <td>0</td>\n",
              "      <td>0</td>\n",
              "      <td>0</td>\n",
              "      <td>0</td>\n",
              "      <td>0</td>\n",
              "      <td>0</td>\n",
              "      <td>0</td>\n",
              "      <td>0</td>\n",
              "      <td>...</td>\n",
              "      <td>0</td>\n",
              "      <td>0</td>\n",
              "      <td>0</td>\n",
              "      <td>0</td>\n",
              "      <td>0</td>\n",
              "      <td>0</td>\n",
              "      <td>0</td>\n",
              "      <td>1</td>\n",
              "      <td>0</td>\n",
              "      <td>0</td>\n",
              "      <td>0</td>\n",
              "      <td>0</td>\n",
              "      <td>0</td>\n",
              "      <td>0</td>\n",
              "      <td>0</td>\n",
              "      <td>0</td>\n",
              "      <td>0</td>\n",
              "      <td>0</td>\n",
              "      <td>0</td>\n",
              "      <td>0</td>\n",
              "      <td>0</td>\n",
              "      <td>0</td>\n",
              "      <td>0</td>\n",
              "      <td>0</td>\n",
              "      <td>0</td>\n",
              "      <td>0</td>\n",
              "      <td>0</td>\n",
              "      <td>0</td>\n",
              "      <td>0</td>\n",
              "      <td>0</td>\n",
              "      <td>0</td>\n",
              "      <td>0</td>\n",
              "      <td>0</td>\n",
              "      <td>0</td>\n",
              "      <td>0</td>\n",
              "      <td>0</td>\n",
              "      <td>0</td>\n",
              "      <td>0</td>\n",
              "      <td>0</td>\n",
              "      <td>0</td>\n",
              "    </tr>\n",
              "    <tr>\n",
              "      <th>267125</th>\n",
              "      <td>0.030769</td>\n",
              "      <td>2</td>\n",
              "      <td>0.000000</td>\n",
              "      <td>0.384083</td>\n",
              "      <td>0</td>\n",
              "      <td>1</td>\n",
              "      <td>0</td>\n",
              "      <td>1</td>\n",
              "      <td>1</td>\n",
              "      <td>0</td>\n",
              "      <td>1</td>\n",
              "      <td>0</td>\n",
              "      <td>0</td>\n",
              "      <td>0</td>\n",
              "      <td>0</td>\n",
              "      <td>0</td>\n",
              "      <td>0</td>\n",
              "      <td>0</td>\n",
              "      <td>0</td>\n",
              "      <td>0</td>\n",
              "      <td>0</td>\n",
              "      <td>0</td>\n",
              "      <td>0</td>\n",
              "      <td>0</td>\n",
              "      <td>0</td>\n",
              "      <td>0</td>\n",
              "      <td>0</td>\n",
              "      <td>0</td>\n",
              "      <td>0</td>\n",
              "      <td>0</td>\n",
              "      <td>0</td>\n",
              "      <td>0</td>\n",
              "      <td>0</td>\n",
              "      <td>0</td>\n",
              "      <td>0</td>\n",
              "      <td>0</td>\n",
              "      <td>0</td>\n",
              "      <td>0</td>\n",
              "      <td>0</td>\n",
              "      <td>0</td>\n",
              "      <td>...</td>\n",
              "      <td>0</td>\n",
              "      <td>0</td>\n",
              "      <td>0</td>\n",
              "      <td>0</td>\n",
              "      <td>0</td>\n",
              "      <td>0</td>\n",
              "      <td>0</td>\n",
              "      <td>0</td>\n",
              "      <td>0</td>\n",
              "      <td>0</td>\n",
              "      <td>0</td>\n",
              "      <td>0</td>\n",
              "      <td>0</td>\n",
              "      <td>0</td>\n",
              "      <td>0</td>\n",
              "      <td>0</td>\n",
              "      <td>0</td>\n",
              "      <td>0</td>\n",
              "      <td>0</td>\n",
              "      <td>0</td>\n",
              "      <td>0</td>\n",
              "      <td>0</td>\n",
              "      <td>0</td>\n",
              "      <td>0</td>\n",
              "      <td>0</td>\n",
              "      <td>0</td>\n",
              "      <td>0</td>\n",
              "      <td>0</td>\n",
              "      <td>0</td>\n",
              "      <td>0</td>\n",
              "      <td>0</td>\n",
              "      <td>0</td>\n",
              "      <td>0</td>\n",
              "      <td>0</td>\n",
              "      <td>0</td>\n",
              "      <td>0</td>\n",
              "      <td>0</td>\n",
              "      <td>0</td>\n",
              "      <td>0</td>\n",
              "      <td>1</td>\n",
              "    </tr>\n",
              "    <tr>\n",
              "      <th>2818</th>\n",
              "      <td>0.046154</td>\n",
              "      <td>1</td>\n",
              "      <td>0.310689</td>\n",
              "      <td>0.795848</td>\n",
              "      <td>0</td>\n",
              "      <td>1</td>\n",
              "      <td>0</td>\n",
              "      <td>1</td>\n",
              "      <td>1</td>\n",
              "      <td>0</td>\n",
              "      <td>1</td>\n",
              "      <td>0</td>\n",
              "      <td>0</td>\n",
              "      <td>0</td>\n",
              "      <td>0</td>\n",
              "      <td>0</td>\n",
              "      <td>0</td>\n",
              "      <td>0</td>\n",
              "      <td>0</td>\n",
              "      <td>0</td>\n",
              "      <td>0</td>\n",
              "      <td>0</td>\n",
              "      <td>0</td>\n",
              "      <td>0</td>\n",
              "      <td>0</td>\n",
              "      <td>1</td>\n",
              "      <td>0</td>\n",
              "      <td>0</td>\n",
              "      <td>0</td>\n",
              "      <td>0</td>\n",
              "      <td>0</td>\n",
              "      <td>0</td>\n",
              "      <td>0</td>\n",
              "      <td>0</td>\n",
              "      <td>0</td>\n",
              "      <td>0</td>\n",
              "      <td>0</td>\n",
              "      <td>0</td>\n",
              "      <td>0</td>\n",
              "      <td>0</td>\n",
              "      <td>...</td>\n",
              "      <td>0</td>\n",
              "      <td>0</td>\n",
              "      <td>0</td>\n",
              "      <td>0</td>\n",
              "      <td>0</td>\n",
              "      <td>0</td>\n",
              "      <td>0</td>\n",
              "      <td>0</td>\n",
              "      <td>0</td>\n",
              "      <td>0</td>\n",
              "      <td>0</td>\n",
              "      <td>0</td>\n",
              "      <td>0</td>\n",
              "      <td>0</td>\n",
              "      <td>0</td>\n",
              "      <td>0</td>\n",
              "      <td>0</td>\n",
              "      <td>0</td>\n",
              "      <td>0</td>\n",
              "      <td>0</td>\n",
              "      <td>0</td>\n",
              "      <td>0</td>\n",
              "      <td>0</td>\n",
              "      <td>0</td>\n",
              "      <td>0</td>\n",
              "      <td>0</td>\n",
              "      <td>0</td>\n",
              "      <td>0</td>\n",
              "      <td>0</td>\n",
              "      <td>0</td>\n",
              "      <td>1</td>\n",
              "      <td>0</td>\n",
              "      <td>0</td>\n",
              "      <td>0</td>\n",
              "      <td>0</td>\n",
              "      <td>0</td>\n",
              "      <td>0</td>\n",
              "      <td>0</td>\n",
              "      <td>0</td>\n",
              "      <td>0</td>\n",
              "    </tr>\n",
              "    <tr>\n",
              "      <th>157037</th>\n",
              "      <td>0.184615</td>\n",
              "      <td>2</td>\n",
              "      <td>0.000000</td>\n",
              "      <td>0.051903</td>\n",
              "      <td>0</td>\n",
              "      <td>1</td>\n",
              "      <td>0</td>\n",
              "      <td>1</td>\n",
              "      <td>1</td>\n",
              "      <td>0</td>\n",
              "      <td>1</td>\n",
              "      <td>0</td>\n",
              "      <td>0</td>\n",
              "      <td>0</td>\n",
              "      <td>0</td>\n",
              "      <td>0</td>\n",
              "      <td>0</td>\n",
              "      <td>0</td>\n",
              "      <td>0</td>\n",
              "      <td>0</td>\n",
              "      <td>0</td>\n",
              "      <td>0</td>\n",
              "      <td>0</td>\n",
              "      <td>1</td>\n",
              "      <td>0</td>\n",
              "      <td>0</td>\n",
              "      <td>0</td>\n",
              "      <td>0</td>\n",
              "      <td>0</td>\n",
              "      <td>0</td>\n",
              "      <td>0</td>\n",
              "      <td>0</td>\n",
              "      <td>0</td>\n",
              "      <td>0</td>\n",
              "      <td>0</td>\n",
              "      <td>0</td>\n",
              "      <td>0</td>\n",
              "      <td>0</td>\n",
              "      <td>0</td>\n",
              "      <td>0</td>\n",
              "      <td>...</td>\n",
              "      <td>0</td>\n",
              "      <td>0</td>\n",
              "      <td>0</td>\n",
              "      <td>0</td>\n",
              "      <td>0</td>\n",
              "      <td>0</td>\n",
              "      <td>0</td>\n",
              "      <td>0</td>\n",
              "      <td>0</td>\n",
              "      <td>0</td>\n",
              "      <td>0</td>\n",
              "      <td>0</td>\n",
              "      <td>0</td>\n",
              "      <td>0</td>\n",
              "      <td>0</td>\n",
              "      <td>0</td>\n",
              "      <td>0</td>\n",
              "      <td>0</td>\n",
              "      <td>0</td>\n",
              "      <td>0</td>\n",
              "      <td>0</td>\n",
              "      <td>0</td>\n",
              "      <td>0</td>\n",
              "      <td>0</td>\n",
              "      <td>0</td>\n",
              "      <td>0</td>\n",
              "      <td>0</td>\n",
              "      <td>0</td>\n",
              "      <td>0</td>\n",
              "      <td>0</td>\n",
              "      <td>0</td>\n",
              "      <td>0</td>\n",
              "      <td>0</td>\n",
              "      <td>0</td>\n",
              "      <td>0</td>\n",
              "      <td>1</td>\n",
              "      <td>0</td>\n",
              "      <td>0</td>\n",
              "      <td>0</td>\n",
              "      <td>0</td>\n",
              "    </tr>\n",
              "    <tr>\n",
              "      <th>209217</th>\n",
              "      <td>0.538462</td>\n",
              "      <td>3</td>\n",
              "      <td>0.000000</td>\n",
              "      <td>0.148789</td>\n",
              "      <td>1</td>\n",
              "      <td>0</td>\n",
              "      <td>0</td>\n",
              "      <td>1</td>\n",
              "      <td>1</td>\n",
              "      <td>0</td>\n",
              "      <td>1</td>\n",
              "      <td>0</td>\n",
              "      <td>0</td>\n",
              "      <td>0</td>\n",
              "      <td>0</td>\n",
              "      <td>0</td>\n",
              "      <td>0</td>\n",
              "      <td>0</td>\n",
              "      <td>0</td>\n",
              "      <td>0</td>\n",
              "      <td>0</td>\n",
              "      <td>0</td>\n",
              "      <td>0</td>\n",
              "      <td>0</td>\n",
              "      <td>0</td>\n",
              "      <td>0</td>\n",
              "      <td>0</td>\n",
              "      <td>0</td>\n",
              "      <td>0</td>\n",
              "      <td>0</td>\n",
              "      <td>0</td>\n",
              "      <td>0</td>\n",
              "      <td>0</td>\n",
              "      <td>0</td>\n",
              "      <td>0</td>\n",
              "      <td>0</td>\n",
              "      <td>0</td>\n",
              "      <td>0</td>\n",
              "      <td>0</td>\n",
              "      <td>0</td>\n",
              "      <td>...</td>\n",
              "      <td>0</td>\n",
              "      <td>0</td>\n",
              "      <td>0</td>\n",
              "      <td>0</td>\n",
              "      <td>0</td>\n",
              "      <td>0</td>\n",
              "      <td>0</td>\n",
              "      <td>1</td>\n",
              "      <td>0</td>\n",
              "      <td>0</td>\n",
              "      <td>0</td>\n",
              "      <td>0</td>\n",
              "      <td>0</td>\n",
              "      <td>0</td>\n",
              "      <td>0</td>\n",
              "      <td>0</td>\n",
              "      <td>0</td>\n",
              "      <td>0</td>\n",
              "      <td>0</td>\n",
              "      <td>0</td>\n",
              "      <td>0</td>\n",
              "      <td>0</td>\n",
              "      <td>0</td>\n",
              "      <td>0</td>\n",
              "      <td>0</td>\n",
              "      <td>0</td>\n",
              "      <td>0</td>\n",
              "      <td>0</td>\n",
              "      <td>0</td>\n",
              "      <td>0</td>\n",
              "      <td>0</td>\n",
              "      <td>0</td>\n",
              "      <td>0</td>\n",
              "      <td>0</td>\n",
              "      <td>0</td>\n",
              "      <td>0</td>\n",
              "      <td>0</td>\n",
              "      <td>0</td>\n",
              "      <td>0</td>\n",
              "      <td>0</td>\n",
              "    </tr>\n",
              "    <tr>\n",
              "      <th>56545</th>\n",
              "      <td>0.123077</td>\n",
              "      <td>1</td>\n",
              "      <td>0.405270</td>\n",
              "      <td>1.000000</td>\n",
              "      <td>0</td>\n",
              "      <td>1</td>\n",
              "      <td>0</td>\n",
              "      <td>1</td>\n",
              "      <td>0</td>\n",
              "      <td>1</td>\n",
              "      <td>0</td>\n",
              "      <td>1</td>\n",
              "      <td>0</td>\n",
              "      <td>0</td>\n",
              "      <td>1</td>\n",
              "      <td>0</td>\n",
              "      <td>0</td>\n",
              "      <td>0</td>\n",
              "      <td>0</td>\n",
              "      <td>0</td>\n",
              "      <td>0</td>\n",
              "      <td>0</td>\n",
              "      <td>0</td>\n",
              "      <td>0</td>\n",
              "      <td>0</td>\n",
              "      <td>0</td>\n",
              "      <td>0</td>\n",
              "      <td>0</td>\n",
              "      <td>0</td>\n",
              "      <td>0</td>\n",
              "      <td>0</td>\n",
              "      <td>0</td>\n",
              "      <td>0</td>\n",
              "      <td>0</td>\n",
              "      <td>0</td>\n",
              "      <td>0</td>\n",
              "      <td>0</td>\n",
              "      <td>0</td>\n",
              "      <td>0</td>\n",
              "      <td>0</td>\n",
              "      <td>...</td>\n",
              "      <td>0</td>\n",
              "      <td>0</td>\n",
              "      <td>0</td>\n",
              "      <td>0</td>\n",
              "      <td>0</td>\n",
              "      <td>0</td>\n",
              "      <td>0</td>\n",
              "      <td>0</td>\n",
              "      <td>0</td>\n",
              "      <td>0</td>\n",
              "      <td>0</td>\n",
              "      <td>0</td>\n",
              "      <td>0</td>\n",
              "      <td>0</td>\n",
              "      <td>0</td>\n",
              "      <td>0</td>\n",
              "      <td>0</td>\n",
              "      <td>0</td>\n",
              "      <td>0</td>\n",
              "      <td>0</td>\n",
              "      <td>0</td>\n",
              "      <td>0</td>\n",
              "      <td>0</td>\n",
              "      <td>0</td>\n",
              "      <td>0</td>\n",
              "      <td>0</td>\n",
              "      <td>0</td>\n",
              "      <td>0</td>\n",
              "      <td>0</td>\n",
              "      <td>0</td>\n",
              "      <td>1</td>\n",
              "      <td>0</td>\n",
              "      <td>0</td>\n",
              "      <td>0</td>\n",
              "      <td>0</td>\n",
              "      <td>0</td>\n",
              "      <td>0</td>\n",
              "      <td>0</td>\n",
              "      <td>0</td>\n",
              "      <td>0</td>\n",
              "    </tr>\n",
              "    <tr>\n",
              "      <th>22760</th>\n",
              "      <td>0.246154</td>\n",
              "      <td>2</td>\n",
              "      <td>0.691011</td>\n",
              "      <td>0.328720</td>\n",
              "      <td>1</td>\n",
              "      <td>0</td>\n",
              "      <td>0</td>\n",
              "      <td>1</td>\n",
              "      <td>1</td>\n",
              "      <td>0</td>\n",
              "      <td>1</td>\n",
              "      <td>0</td>\n",
              "      <td>0</td>\n",
              "      <td>0</td>\n",
              "      <td>0</td>\n",
              "      <td>0</td>\n",
              "      <td>0</td>\n",
              "      <td>0</td>\n",
              "      <td>0</td>\n",
              "      <td>1</td>\n",
              "      <td>0</td>\n",
              "      <td>0</td>\n",
              "      <td>0</td>\n",
              "      <td>0</td>\n",
              "      <td>0</td>\n",
              "      <td>0</td>\n",
              "      <td>0</td>\n",
              "      <td>0</td>\n",
              "      <td>0</td>\n",
              "      <td>0</td>\n",
              "      <td>0</td>\n",
              "      <td>0</td>\n",
              "      <td>0</td>\n",
              "      <td>0</td>\n",
              "      <td>0</td>\n",
              "      <td>0</td>\n",
              "      <td>0</td>\n",
              "      <td>0</td>\n",
              "      <td>0</td>\n",
              "      <td>0</td>\n",
              "      <td>...</td>\n",
              "      <td>0</td>\n",
              "      <td>0</td>\n",
              "      <td>0</td>\n",
              "      <td>0</td>\n",
              "      <td>0</td>\n",
              "      <td>0</td>\n",
              "      <td>0</td>\n",
              "      <td>1</td>\n",
              "      <td>0</td>\n",
              "      <td>0</td>\n",
              "      <td>0</td>\n",
              "      <td>0</td>\n",
              "      <td>0</td>\n",
              "      <td>0</td>\n",
              "      <td>0</td>\n",
              "      <td>0</td>\n",
              "      <td>0</td>\n",
              "      <td>0</td>\n",
              "      <td>0</td>\n",
              "      <td>0</td>\n",
              "      <td>0</td>\n",
              "      <td>0</td>\n",
              "      <td>0</td>\n",
              "      <td>0</td>\n",
              "      <td>0</td>\n",
              "      <td>0</td>\n",
              "      <td>0</td>\n",
              "      <td>0</td>\n",
              "      <td>0</td>\n",
              "      <td>0</td>\n",
              "      <td>0</td>\n",
              "      <td>0</td>\n",
              "      <td>0</td>\n",
              "      <td>0</td>\n",
              "      <td>0</td>\n",
              "      <td>0</td>\n",
              "      <td>0</td>\n",
              "      <td>0</td>\n",
              "      <td>0</td>\n",
              "      <td>0</td>\n",
              "    </tr>\n",
              "  </tbody>\n",
              "</table>\n",
              "<p>10 rows × 210 columns</p>\n",
              "</div>"
            ],
            "text/plain": [
              "            Umur  Umur_Kendaraan     Premi  ...  kp_159.0  kp_160.0  kp_163.0\n",
              "120270  0.030769               1  0.437119  ...         0         0         0\n",
              "208715  0.400000               2  0.456367  ...         0         0         0\n",
              "275421  0.200000               2  0.533646  ...         0         0         0\n",
              "280603  0.753846               2  0.651501  ...         0         0         0\n",
              "267125  0.030769               2  0.000000  ...         0         0         1\n",
              "2818    0.046154               1  0.310689  ...         0         0         0\n",
              "157037  0.184615               2  0.000000  ...         0         0         0\n",
              "209217  0.538462               3  0.000000  ...         0         0         0\n",
              "56545   0.123077               1  0.405270  ...         0         0         0\n",
              "22760   0.246154               2  0.691011  ...         0         0         0\n",
              "\n",
              "[10 rows x 210 columns]"
            ]
          },
          "metadata": {},
          "execution_count": 33
        }
      ]
    },
    {
      "cell_type": "markdown",
      "metadata": {
        "id": "E1UmtagsE8Ua"
      },
      "source": [
        "selesai, simpan menjadi file baru"
      ]
    },
    {
      "cell_type": "code",
      "metadata": {
        "id": "JWyq5tkkEapZ"
      },
      "source": [
        "df.to_csv('kendaraan_train_final.csv', header=True, index=True)"
      ],
      "execution_count": 32,
      "outputs": []
    }
  ]
}